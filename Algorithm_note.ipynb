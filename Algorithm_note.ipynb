{
 "cells": [
  {
   "cell_type": "markdown",
   "id": "7b608418",
   "metadata": {},
   "source": [
    "# Algorithm_note"
   ]
  },
  {
   "cell_type": "markdown",
   "id": "543f9904",
   "metadata": {},
   "source": [
    "동전거슬러주기 문제"
   ]
  },
  {
   "cell_type": "code",
   "execution_count": 2,
   "id": "28b15e10",
   "metadata": {},
   "outputs": [
    {
     "name": "stdout",
     "output_type": "stream",
     "text": [
      "지금의 n값은 {260}입니다.\n",
      "지금의 n값은 {60}입니다.\n",
      "지금의 n값은 {10}입니다.\n",
      "지금의 n값은 {0}입니다.\n",
      "6\n"
     ]
    }
   ],
   "source": [
    "n = 1260\n",
    "count=0\n",
    "\n",
    "coin_types=[500,100,50,10]\n",
    "\n",
    "for x in coin_types:\n",
    "    \n",
    "    count+=n//x\n",
    "    n%=x\n",
    "    print('지금의 n값은 {%d}입니다.'%n)\n",
    "    \n",
    "print(count)"
   ]
  },
  {
   "cell_type": "markdown",
   "id": "4eace0bd",
   "metadata": {},
   "source": [
    "위 코드를 보면 화폐의 종류만큼 반복 수행해야 한다. 따라서 화폐의 종류가 K개라고 할 떄 위 소스 코드의 시간 복잡도는 O(K)이다.\n",
    "    \n",
    "참고로 시간 복잡도에서 거슬러 주어야 할 돈 N은 찾아볼 수 없는 것을 알 수 있다.\n",
    "\n",
    "즉, 이 알고리즘의 시간 복잡도는 동전의 총 종류에만 영향을 받고, 거슬러 줘야 하는 금액의 크기와는 무관하다"
   ]
  },
  {
   "cell_type": "markdown",
   "id": "af7a4b5f",
   "metadata": {},
   "source": [
    "큰 수의 법칙"
   ]
  },
  {
   "cell_type": "code",
   "execution_count": 5,
   "id": "c0cf51ee",
   "metadata": {},
   "outputs": [
    {
     "name": "stdout",
     "output_type": "stream",
     "text": [
      "5 8 3\n",
      "2 4 5 4 6\n",
      "46\n"
     ]
    }
   ],
   "source": [
    "# 큰 수의 법칙\n",
    "\n",
    "n, m, k = map(int,input().split())\n",
    "# n은 배열수, m은 총 더하기 길이, k는 한 숫자가 연속가능한 수 \n",
    "\n",
    "data = list(map(int, input().split()))\n",
    "\n",
    "data.sort()\n",
    "\n",
    "first = data[-1]\n",
    "second = data[-2]\n",
    "\n",
    "result=0 # 최종 값 저장하기 위해서\n",
    "\n",
    "while True:\n",
    "    \n",
    "    for x in range(k): # 가장 큰 숫자 k번 더하기\n",
    "\n",
    "        if m==0:\n",
    "            break\n",
    "\n",
    "        result+=first\n",
    "        m-=1\n",
    "\n",
    "    if m==0:\n",
    "\n",
    "        break\n",
    "\n",
    "    result+=second  # 두 번째 숫자 한번 더하기\n",
    "\n",
    "    m-=1\n",
    "\n",
    "print(result)"
   ]
  },
  {
   "cell_type": "markdown",
   "id": "754d02df",
   "metadata": {},
   "source": [
    "이 문제는 일단 입력값 중에서 가장 큰 수와 두 번째 큰 수만 저장하면 된다. 연속으로 더할 수 있는 횟수는 최대 K번이므로 가장 큰 수를 K번 더하고 두 번째로 큰 수를 한 번 더하는 연산을 반복하면 된다.'"
   ]
  },
  {
   "cell_type": "markdown",
   "id": "b1a2cf8d",
   "metadata": {},
   "source": [
    "but, 이 문제는 M이 10,100 이하이므로 이 방식으로도 문제를 해결할 수 있지만, M의 크기가 100억 이상처럼 커진다면 시간 초과 판정을 받을 것이다.\n",
    "   \n",
    "간단한 수학적 아이디어를 이용해 더 효율적으로 문제를 해결해보자.\n",
    "\n",
    "예를 들어 N이 5이고 입력값이 다음과 같이 주어졌다고 가정하자.\n",
    "\n",
    "이 문제를 풀려면 가장 먼저 반복되는 수열에 대해서 파악해야 한다.\n",
    "\n",
    "가자장 큰 수와 두 번째로 큰 수가 더해질 떄는 특정한 수열 형태로 일정하게 반복해서 더해지는 특징이 있다. 위의 예시에서는 수열 {6,6,6,5}가 반복된다.\n",
    "\n",
    "그렇다면 반복되는 수열의 길이는 어떻게 될까? \n",
    "\n",
    "바로 (K+1)로 위의 예시에서는 4가 된다. 따라서 M을 (K+1)로 나눈 몫이 수열이 반복되는 횟수가 된다. 다시 여기에 K를 곱해주면 가장 큰 수가 등장하는 횟수가 된다.\n",
    "\n",
    "이때 M이 (K+1)로 나누어떨어지지 않는 경우도 고려해야 한다. 그럴 때는 M을 (K+1)로 나눈 나머지만큼 가장 큰 수가 추가로 더해지므로 이를 고려해주어야 한다. 즉, '가장 큰 수가 더해지는 횟수'는 다음과 같다.\n",
    "\n",
    "int(M/(K+1)) * K+M%(K+1)\n",
    "결과적으로 위의 식을 이용하여 가장 큰 수가 더해지는 횟수를 구한 다음, 이를 이용해 두 번째로 큰 수가 더해지는 횟수까지 구할 수 있는 것이다. 이를 토대로 파이썬을 이용해 답안을 작성하면 다음과 같다."
   ]
  },
  {
   "cell_type": "code",
   "execution_count": 7,
   "id": "6ef355f3",
   "metadata": {},
   "outputs": [
    {
     "name": "stdout",
     "output_type": "stream",
     "text": [
      "5 8 3\n",
      "2 4 5 4 6\n",
      "46\n"
     ]
    }
   ],
   "source": [
    "n,m,k = map(int, input().split())\n",
    "\n",
    "data=list(map(int,input().split()))\n",
    "\n",
    "data.sort()\n",
    "\n",
    "first=data[-1]\n",
    "second=data[-2]\n",
    "\n",
    "# 가장 큰 수가 더해지는 횟수 계산\n",
    "count =int(m/(k+1))*k\n",
    "count+=m%(k+1)\n",
    "\n",
    "result=0\n",
    "result+=(count)*first\n",
    "result+=(m-count) * second\n",
    "\n",
    "print(result)"
   ]
  }
 ],
 "metadata": {
  "hide_input": false,
  "kernelspec": {
   "display_name": "Python 3 (ipykernel)",
   "language": "python",
   "name": "python3"
  },
  "language_info": {
   "codemirror_mode": {
    "name": "ipython",
    "version": 3
   },
   "file_extension": ".py",
   "mimetype": "text/x-python",
   "name": "python",
   "nbconvert_exporter": "python",
   "pygments_lexer": "ipython3",
   "version": "3.8.11"
  }
 },
 "nbformat": 4,
 "nbformat_minor": 5
}
