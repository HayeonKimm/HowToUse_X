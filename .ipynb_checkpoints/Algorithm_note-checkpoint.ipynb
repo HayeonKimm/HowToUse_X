{
 "cells": [
  {
   "cell_type": "markdown",
   "id": "7b608418",
   "metadata": {},
   "source": [
    "# Algorithm_note"
   ]
  },
  {
   "cell_type": "markdown",
   "id": "543f9904",
   "metadata": {},
   "source": [
    "동전거슬러주기 문제"
   ]
  },
  {
   "cell_type": "code",
   "execution_count": 2,
   "id": "28b15e10",
   "metadata": {},
   "outputs": [
    {
     "name": "stdout",
     "output_type": "stream",
     "text": [
      "지금의 n값은 {260}입니다.\n",
      "지금의 n값은 {60}입니다.\n",
      "지금의 n값은 {10}입니다.\n",
      "지금의 n값은 {0}입니다.\n",
      "6\n"
     ]
    }
   ],
   "source": [
    "n = 1260\n",
    "count=0\n",
    "\n",
    "coin_types=[500,100,50,10]\n",
    "\n",
    "for x in coin_types:\n",
    "    \n",
    "    count+=n//x\n",
    "    n%=x\n",
    "    print('지금의 n값은 {%d}입니다.'%n)\n",
    "    \n",
    "print(count)"
   ]
  },
  {
   "cell_type": "markdown",
   "id": "4eace0bd",
   "metadata": {},
   "source": [
    "위 코드를 보면 화폐의 종류만큼 반복 수행해야 한다. 따라서 화폐의 종류가 K개라고 할 떄 위 소스 코드의 시간 복잡도는 O(K)이다.\n",
    "    \n",
    "참고로 시간 복잡도에서 거슬러 주어야 할 돈 N은 찾아볼 수 없는 것을 알 수 있다.\n",
    "\n",
    "즉, 이 알고리즘의 시간 복잡도는 동전의 총 종류에만 영향을 받고, 거슬러 줘야 하는 금액의 크기와는 무관하다"
   ]
  },
  {
   "cell_type": "markdown",
   "id": "af7a4b5f",
   "metadata": {},
   "source": [
    "## 큰 수의 법칙 (그리디)"
   ]
  },
  {
   "cell_type": "code",
   "execution_count": 5,
   "id": "c0cf51ee",
   "metadata": {},
   "outputs": [
    {
     "name": "stdout",
     "output_type": "stream",
     "text": [
      "5 8 3\n",
      "2 4 5 4 6\n",
      "46\n"
     ]
    }
   ],
   "source": [
    "# 큰 수의 법칙\n",
    "\n",
    "n, m, k = map(int,input().split())\n",
    "# n은 배열수, m은 총 더하기 길이, k는 한 숫자가 연속가능한 수 \n",
    "\n",
    "data = list(map(int, input().split()))\n",
    "\n",
    "data.sort()\n",
    "\n",
    "first = data[-1]\n",
    "second = data[-2]\n",
    "\n",
    "result=0 # 최종 값 저장하기 위해서\n",
    "\n",
    "while True:\n",
    "    \n",
    "    for x in range(k): # 가장 큰 숫자 k번 더하기\n",
    "\n",
    "        if m==0:\n",
    "            break\n",
    "\n",
    "        result+=first\n",
    "        m-=1\n",
    "\n",
    "    if m==0:\n",
    "\n",
    "        break\n",
    "\n",
    "    result+=second  # 두 번째 숫자 한번 더하기\n",
    "\n",
    "    m-=1\n",
    "\n",
    "print(result)"
   ]
  },
  {
   "cell_type": "markdown",
   "id": "754d02df",
   "metadata": {},
   "source": [
    "이 문제는 일단 입력값 중에서 가장 큰 수와 두 번째 큰 수만 저장하면 된다. 연속으로 더할 수 있는 횟수는 최대 K번이므로 가장 큰 수를 K번 더하고 두 번째로 큰 수를 한 번 더하는 연산을 반복하면 된다.'"
   ]
  },
  {
   "cell_type": "markdown",
   "id": "b1a2cf8d",
   "metadata": {},
   "source": [
    "but, 이 문제는 M이 10,100 이하이므로 이 방식으로도 문제를 해결할 수 있지만, M의 크기가 100억 이상처럼 커진다면 시간 초과 판정을 받을 것이다.\n",
    "   \n",
    "간단한 수학적 아이디어를 이용해 더 효율적으로 문제를 해결해보자.\n",
    "\n",
    "예를 들어 N이 5이고 입력값이 다음과 같이 주어졌다고 가정하자.\n",
    "\n",
    "이 문제를 풀려면 가장 먼저 반복되는 수열에 대해서 파악해야 한다.\n",
    "\n",
    "가자장 큰 수와 두 번째로 큰 수가 더해질 떄는 특정한 수열 형태로 일정하게 반복해서 더해지는 특징이 있다. 위의 예시에서는 수열 {6,6,6,5}가 반복된다.\n",
    "\n",
    "그렇다면 반복되는 수열의 길이는 어떻게 될까? \n",
    "\n",
    "바로 (K+1)로 위의 예시에서는 4가 된다. 따라서 M을 (K+1)로 나눈 몫이 수열이 반복되는 횟수가 된다. 다시 여기에 K를 곱해주면 가장 큰 수가 등장하는 횟수가 된다.\n",
    "\n",
    "이때 M이 (K+1)로 나누어떨어지지 않는 경우도 고려해야 한다. 그럴 때는 M을 (K+1)로 나눈 나머지만큼 가장 큰 수가 추가로 더해지므로 이를 고려해주어야 한다. 즉, '가장 큰 수가 더해지는 횟수'는 다음과 같다.\n",
    "\n",
    "int(M/(K+1)) * K+M%(K+1)\n",
    "결과적으로 위의 식을 이용하여 가장 큰 수가 더해지는 횟수를 구한 다음, 이를 이용해 두 번째로 큰 수가 더해지는 횟수까지 구할 수 있는 것이다. 이를 토대로 파이썬을 이용해 답안을 작성하면 다음과 같다."
   ]
  },
  {
   "cell_type": "code",
   "execution_count": 7,
   "id": "6ef355f3",
   "metadata": {},
   "outputs": [
    {
     "name": "stdout",
     "output_type": "stream",
     "text": [
      "5 8 3\n",
      "2 4 5 4 6\n",
      "46\n"
     ]
    }
   ],
   "source": [
    "n,m,k = map(int, input().split())\n",
    "\n",
    "data=list(map(int,input().split()))\n",
    "\n",
    "data.sort()\n",
    "\n",
    "first=data[-1]\n",
    "second=data[-2]\n",
    "\n",
    "# 가장 큰 수가 더해지는 횟수 계산\n",
    "count =int(m/(k+1))*k\n",
    "count+=m%(k+1)\n",
    "\n",
    "result=0\n",
    "result+=(count)*first\n",
    "result+=(m-count) * second\n",
    "\n",
    "print(result)"
   ]
  },
  {
   "cell_type": "markdown",
   "id": "ae400155",
   "metadata": {},
   "source": [
    "## 숫자 카드 게임(그리디)"
   ]
  },
  {
   "cell_type": "markdown",
   "id": "7396f2b5",
   "metadata": {},
   "source": [
    "아이디어 : 각 행마다 가장 작은 수를 찾은 뒤에 그 수 중에서 가장 큰 수를 찾는 게임"
   ]
  },
  {
   "cell_type": "code",
   "execution_count": 8,
   "id": "4858c17b",
   "metadata": {},
   "outputs": [
    {
     "name": "stdout",
     "output_type": "stream",
     "text": [
      "3 3\n",
      "3 1 2\n",
      "4 1 4\n",
      "2 2 2\n",
      "2\n"
     ]
    }
   ],
   "source": [
    "# 낮은 것 중에서 가장 높은 것.\n",
    "\n",
    "m,n = map(int,input().split())\n",
    "\n",
    "for i in range(m):\n",
    "    \n",
    "    data = map(int,input().split())\n",
    "    mini = min(data)\n",
    "    \n",
    "    result = max(result,mini)\n",
    "    \n",
    "print(result)"
   ]
  },
  {
   "cell_type": "markdown",
   "id": "1d18ce74",
   "metadata": {},
   "source": [
    "1이 될 때 까지"
   ]
  },
  {
   "cell_type": "markdown",
   "id": "b3cceabb",
   "metadata": {},
   "source": [
    "방법1\n",
    "1. N에서 1을 뺀다.\n",
    "2. N을 K로 나눈다."
   ]
  },
  {
   "cell_type": "code",
   "execution_count": 12,
   "id": "5c041360",
   "metadata": {},
   "outputs": [
    {
     "name": "stdout",
     "output_type": "stream",
     "text": [
      "27 3\n",
      "3\n"
     ]
    }
   ],
   "source": [
    "# 혼자 도전해본 풀이: 정답\n",
    "\n",
    "n,k = map(int,input().split())\n",
    "count=0\n",
    "\n",
    "while n!=1:\n",
    "    \n",
    "    if n%k==0:\n",
    "        \n",
    "        n=n/k\n",
    "        count+=1\n",
    "        \n",
    "    else:\n",
    "        \n",
    "        n=n-1\n",
    "        \n",
    "        count+=1\n",
    "        \n",
    "        \n",
    "\n",
    "print(count)\n",
    "        \n"
   ]
  },
  {
   "cell_type": "code",
   "execution_count": 15,
   "id": "b5ce7208",
   "metadata": {},
   "outputs": [
    {
     "name": "stdout",
     "output_type": "stream",
     "text": [
      "25 5\n",
      "2\n"
     ]
    }
   ],
   "source": [
    "# 책에서 나온 답\n",
    "\n",
    "n, k = map(int,input().split())\n",
    "result =0\n",
    "\n",
    "# N이 K이상이라면 K로 계속 나누기\n",
    "\n",
    "while n>=k:\n",
    "    #N이 K로 나누어 떨어지지 않는다면 N에서 1씩 빼기\n",
    "    \n",
    "    while n%k!=0:\n",
    "        n-=1\n",
    "        result+=1\n",
    "        \n",
    "    # K로 나누기\n",
    "    n//=k\n",
    "    result+=1\n",
    "    \n",
    "#마지막으로 남는 수에 대하여 1씩 빼기\n",
    "\n",
    "while n>1:\n",
    "    n-=1\n",
    "    result +=1\n",
    "    \n",
    "print(result)"
   ]
  },
  {
   "cell_type": "markdown",
   "id": "fff3ff72",
   "metadata": {},
   "source": [
    "## 상하 좌우 문제 (구현,시뮬레이션)"
   ]
  },
  {
   "cell_type": "markdown",
   "id": "5b7a3086",
   "metadata": {},
   "source": [
    "명령에 따라서 차례대로 이동시킨다는 점에서 시뮬레이션 유형이다."
   ]
  },
  {
   "cell_type": "code",
   "execution_count": 20,
   "id": "94f4711b",
   "metadata": {},
   "outputs": [
    {
     "data": {
      "text/plain": [
       "(1, 5, 4)"
      ]
     },
     "execution_count": 20,
     "metadata": {},
     "output_type": "execute_result"
    }
   ],
   "source": [
    "1,2+3,4"
   ]
  },
  {
   "cell_type": "code",
   "execution_count": 28,
   "id": "f88c4a11",
   "metadata": {},
   "outputs": [
    {
     "name": "stdout",
     "output_type": "stream",
     "text": [
      "5\n",
      "r r r u d d\n",
      "(2, 4)\n"
     ]
    }
   ],
   "source": [
    "# 내가 해봤던 풀이, 모르겠다. 3,4가 나와야하는데 2,4가 나왔다.\n",
    "\n",
    "n = int(input())\n",
    "mov = list(map(str,input().split()))\n",
    "init_1=1\n",
    "init_2=1\n",
    "\n",
    "for i in mov:\n",
    "    \n",
    "    \n",
    "    \n",
    "    elif i == 'r':\n",
    "        init_2+=1\n",
    "    \n",
    "    elif i == 'l':\n",
    "        init_2-=1\n",
    "        \n",
    "    elif i == 'u':\n",
    "        init_1-=1\n",
    "    \n",
    "    else:\n",
    "        init_1+=1\n",
    "        \n",
    "print((init_1,init_2))"
   ]
  },
  {
   "cell_type": "code",
   "execution_count": 30,
   "id": "eda6fb55",
   "metadata": {},
   "outputs": [
    {
     "name": "stdout",
     "output_type": "stream",
     "text": [
      "5\n",
      "R R R U D D\n",
      "3 4\n"
     ]
    }
   ],
   "source": [
    "# 문제 해설\n",
    "\n",
    "n = int(input())\n",
    "x,y = 1,1\n",
    "plans = input().split()\n",
    "\n",
    "move_type=['L','R','U','D']\n",
    "\n",
    "dx = [0,0,-1,1]\n",
    "dy = [-1,1,0,0]\n",
    "\n",
    "\n",
    "for plan in plans:\n",
    "    \n",
    "    for i in range(len(move_type)):\n",
    "        \n",
    "        if plan == move_type[i]:\n",
    "            \n",
    "            nx = x+dx[i]\n",
    "            ny = y+dy[i]\n",
    "            \n",
    "            \n",
    "    if nx<1 or ny<1 or nx>n or ny>n:\n",
    "        \n",
    "        continue\n",
    "        \n",
    "        \n",
    "    x,y =nx,ny\n",
    "    \n",
    "    \n",
    "print(x,y)"
   ]
  },
  {
   "cell_type": "markdown",
   "id": "f4e1c012",
   "metadata": {},
   "source": [
    "## 시각(완전 탐색)\n",
    "\n",
    "완전 탐색 알고리즘은 가능한 경우의 수를 모두 검사해보는 탐색 방법이다.\n",
    "\n",
    "일반적으로 완전 탐색 알고리즘은 비효율적인 시간 복잡도를 가지고 있으므로 데잍터 개수가 큰 경우에 정상적으로 동작하지 않을 수 있다. 그래서 일반적으로 알고리즘 문제를 풀 떄는 확인(탐색 해야 할 전체 데이터의 개수가 100만개 이하일 때완전 탐색을 사용하면 적절하다."
   ]
  },
  {
   "cell_type": "code",
   "execution_count": 32,
   "id": "2e969c7b",
   "metadata": {},
   "outputs": [
    {
     "name": "stdout",
     "output_type": "stream",
     "text": [
      "5\n",
      "11475\n"
     ]
    }
   ],
   "source": [
    "n = int(input())\n",
    "count=0\n",
    "\n",
    "\n",
    "for i in range(n+1):\n",
    "    \n",
    "    for j in range(60):\n",
    "        \n",
    "        for k in range(60):\n",
    "            \n",
    "            if '3' in str(i)+str(j)+str(k): #문자열 자료형으로 변환하여 탐색\n",
    "                count+=1\n",
    "                \n",
    "print(count)"
   ]
  },
  {
   "cell_type": "markdown",
   "id": "bbd51daa",
   "metadata": {},
   "source": [
    "## 왕실의 나이트\n",
    "\n",
    "### 많이 취약하다. 복습 많이 하자."
   ]
  },
  {
   "cell_type": "code",
   "execution_count": 41,
   "id": "5e64dd59",
   "metadata": {},
   "outputs": [
    {
     "data": {
      "text/plain": [
       "1"
      ]
     },
     "execution_count": 41,
     "metadata": {},
     "output_type": "execute_result"
    }
   ],
   "source": [
    "int(ord('a'))-int(ord('a'))+1"
   ]
  },
  {
   "cell_type": "code",
   "execution_count": 42,
   "id": "b669f3b8",
   "metadata": {},
   "outputs": [
    {
     "name": "stdout",
     "output_type": "stream",
     "text": [
      "a1\n",
      "2\n"
     ]
    }
   ],
   "source": [
    "input_data = input()\n",
    "row =int(input_data[1])\n",
    "column = int(ord(input_data[0]))-int(ord('a'))+1\n",
    "\n",
    "steps =[(-2,-1),(-1,-2),(1,-2),(2,-1),(2,1),(1,2),(-1,2),(-2,1)]\n",
    "result=0\n",
    "\n",
    "for step in steps:\n",
    "    # 이동하고자 하는 위치 확인\n",
    "    next_row =row+step[0]\n",
    "    next_columns=column+step[1]\n",
    "    \n",
    "    # 해당 위치로 이동이 가능하다면 카운트 증가\n",
    "    \n",
    "    if next_row>=1 and next_row<=8 and next_columns>=1 and next_columns<=8:\n",
    "        result+=1\n",
    "    \n",
    "    \n",
    "print(result)\n",
    "    \n",
    "    \n",
    "# ord — ord(c)는 문자의 유니코드 값을 돌려주는 함수이다.\n"
   ]
  },
  {
   "cell_type": "markdown",
   "id": "b1a71c2b",
   "metadata": {},
   "source": [
    "### 게임 개발 (시뮬레이션)"
   ]
  },
  {
   "cell_type": "markdown",
   "id": "0adb344d",
   "metadata": {},
   "source": [
    "전형적인 시뮬레이션 문제이다. 삼성전자 공채 코딩 테스트에서 자주 출제되는 대표적인 유형이기도 하다.   \n",
    "\n",
    "별도의 알고리즘이 필요하기보다는 문제에서 요구하는 내용을 오류 없이 성실하게 구현만 한다면 풀 수 있다는게 특징.\n",
    "\n",
    "반복적 숙달이 필요하다.\n",
    "\n",
    "#### 테크닉 : 일반적으로 방향을 설정해서 이동하는 문제 유형에서는 dx,dy라는 별도의 리스트를 만들어 방향을 정하는 것이 효과적이다."
   ]
  },
  {
   "cell_type": "code",
   "execution_count": 12,
   "id": "d343b26f",
   "metadata": {},
   "outputs": [
    {
     "name": "stdout",
     "output_type": "stream",
     "text": [
      "4 4\n",
      "1 1 0\n"
     ]
    }
   ],
   "source": [
    "n,m = map(int, input().split())\n",
    "\n",
    "# 방문한 위치를 저장하기 위한 맵을 생성하여 0으로 초기화\n",
    "\n",
    "d=[[0] * m for _ in range(n)]   # _는? 그냥 반복을 위해 존재. 실제론 안쓰이기 때문에\n",
    "\n",
    "# 현재 캐릭터의 X좌표, Y좌표, 방향을 입력받기\n",
    "\n",
    "x,y ,direction = map(int, input().split())\n",
    "\n",
    "# 북쪽:0,동쪽:1,남쪽:2,서쪽:3\n",
    "\n",
    "d[x][y] =1 # 현재 좌표 방문 처리, 1로 저장해서 구분하는 듯 하다."
   ]
  },
  {
   "cell_type": "code",
   "execution_count": 13,
   "id": "754d2516",
   "metadata": {},
   "outputs": [
    {
     "data": {
      "text/plain": [
       "[[0, 0, 0, 0], [0, 1, 0, 0], [0, 0, 0, 0], [0, 0, 0, 0]]"
      ]
     },
     "execution_count": 13,
     "metadata": {},
     "output_type": "execute_result"
    }
   ],
   "source": [
    "d"
   ]
  },
  {
   "cell_type": "code",
   "execution_count": null,
   "id": "a7c2d270",
   "metadata": {},
   "outputs": [],
   "source": [
    "# n,m = map(int, input().split())\n",
    "\n",
    "# 방문한 위치를 저장하기 위한 맵을 생성하여 0으로 초기화. 이건 별개다.\n",
    "\n",
    "d=[[0] * m for _ in range(n)]   # _는? 그냥 반복을 위해 존재. 실제론 안쓰이기 때문에\n",
    "\n",
    "# 현재 캐릭터의 X좌표, Y좌표, 방향을 입력받기\n",
    "\n",
    "x,y ,direction = map(int, input().split())\n",
    "\n",
    "# 북쪽:0,동쪽:1,남쪽:2,서쪽:3\n",
    "\n",
    "d[x][y] =1 # 현재 좌표 방문 처리, 1로 저장해서 구분하는 듯 하다.\n",
    "\n",
    "# 전체 맵 정보를 입력받기\n",
    "\n",
    "array=[]\n",
    "for i in range(n):\n",
    "    array.append(list(map(int,input().split())))\n",
    "                 \n",
    "\n",
    "# 북 ,동 ,남 ,서 방향 정의\n",
    "dx = [-1,0,1,0]\n",
    "dy = [0,1,0,-1]\n",
    "\n",
    "\n",
    "# 왼쪽으로 회전. 이동이 아니라 딱 회전만이다.\n",
    "\n",
    "def turn_left():\n",
    "    global direction\n",
    "    direction -=1\n",
    "    if direction == -1: # 0에서 -1를 했을 경우\n",
    "        direction=3\n",
    "        \n",
    "\n",
    "# 시뮬레이션 시작        \n",
    "count = 1\n",
    "turn_time =0\n",
    "while True:\n",
    "    \n",
    "    # 왼쪽으로 회전.\n",
    "    turn_left()\n",
    "    \n",
    "    nx= x+dx[direction]\n",
    "    ny= y+dy[direction]\n",
    "    \n",
    "    #회전한 이후 정면에 가보지 않은 칸이 존재하는 경우 이동\n",
    "    \n",
    "    # 이건 다녀온 적이 있는지,  # 이건 바다인지 육지인지. 0이면 육지다.이동가능\n",
    "    if d[nx][ny]==0 and array[nx][ny]==0:\n",
    "        d[nx][ny]=1 # 다녀갔다는 값으로 저장\n",
    "        x=nx\n",
    "        y=ny\n",
    "        \n",
    "        count+=1\n",
    "        turn_time=0\n",
    "        continue\n",
    "        \n",
    "    else:\n",
    "        turn_time +=1\n",
    "    \n",
    "    # 네 방향 모두 갈 수 없는 경우\n",
    "    \n",
    "    if turn_time ==4:\n",
    "        nx= x-dx[direction]\n",
    "        ny= y-dy[direction]\n",
    "        \n",
    "        # 뒤로 갈 수 있다면 이동하기\n",
    "        \n",
    "        if array[nx][ny] ==0:\n",
    "            x=nx\n",
    "            y=ny\n",
    "        # 뒤가 바다로 막혀있는 경우\n",
    "        \n",
    "        else:\n",
    "            break\n",
    "            \n",
    "        turn_time=0\n",
    "        \n",
    "        \n",
    "#정답 출력\n",
    "\n",
    "print(count)"
   ]
  },
  {
   "cell_type": "code",
   "execution_count": 14,
   "id": "5ed576f9",
   "metadata": {},
   "outputs": [
    {
     "name": "stdout",
     "output_type": "stream",
     "text": [
      "4 4\n",
      "1 1 0\n",
      "1 1 1 1\n",
      "1 0 0 1\n",
      "1 1 0 1\n",
      "1 1 1 1\n",
      "3\n"
     ]
    }
   ],
   "source": [
    "n,m = map(int,input().split())\n",
    "\n",
    "a,b,direction = map(int,input().split())\n",
    "\n",
    "\n",
    "# 방문한 위치 만들기 ,리스트 컴프리헨션\n",
    "# 다녀갔는지 확인용\n",
    "d= [[0]*m for _ in range(n)]\n",
    "\n",
    "d[x][y]=1 # 현재 위치 및 다녀간 곳 체크\n",
    "\n",
    "# 전체 맵 입력받기\n",
    "\n",
    "array=[]\n",
    "\n",
    "for i in range(n):\n",
    "    \n",
    "    array.append(list(map(int,input().split())))\n",
    "    \n",
    "    \n",
    "\n",
    "dx =[-1,0,1,0]\n",
    "dy =[0,1,0,-1]\n",
    "\n",
    "\n",
    "def turn_left():\n",
    "    \n",
    "    global direction\n",
    "    direction -=1\n",
    "    \n",
    "    if direction==-1:\n",
    "        direction=3\n",
    "        \n",
    "        \n",
    "# 시뮬레이션 시작\n",
    "\n",
    "count =1 \n",
    "\n",
    "turn_time =0\n",
    "\n",
    "while True:\n",
    "    \n",
    "    # 왼쪽으로 회전\n",
    "    \n",
    "    turn_left()\n",
    "    nx= x+dx[direction]\n",
    "    ny= y+dy[direction]\n",
    "    \n",
    "    if d[nx][ny]==0 and array[nx][ny] ==0:\n",
    "        \n",
    "        d[nx][ny] =1\n",
    "        \n",
    "        x=nx\n",
    "        y=ny\n",
    "        \n",
    "        count+= 1\n",
    "        turn_time=0 # 돌지않음\n",
    "        continue\n",
    "        \n",
    "    # 회전한 이후 정면에 가보지 않은 칸이 없거나 바다인 경우\n",
    "    \n",
    "    else:\n",
    "        turn_time+=1 # 다른 방향으로\n",
    "        \n",
    "    \n",
    "    # 네 방향 모두 갈 수 없는 경우\n",
    "    \n",
    "    \n",
    "    if turn_time ==4:\n",
    "        \n",
    "        nx=x-dx[direction]\n",
    "        ny=y-dy[direction]\n",
    "        \n",
    "        # 뒤로 갈 수 있다면 이동\n",
    "        \n",
    "        if array[nx][ny] ==0:\n",
    "            x=nx\n",
    "            y=ny\n",
    "        else:\n",
    "            \n",
    "            break\n",
    "            \n",
    "        turn_time=0\n",
    "        \n",
    "        \n",
    "# 정답 \n",
    "\n",
    "print(count)\n",
    "    \n",
    "\n",
    "    \n",
    "    \n",
    "    \n"
   ]
  },
  {
   "cell_type": "code",
   "execution_count": null,
   "id": "1edf0fcb",
   "metadata": {},
   "outputs": [],
   "source": []
  }
 ],
 "metadata": {
  "hide_input": false,
  "kernelspec": {
   "display_name": "Python 3 (ipykernel)",
   "language": "python",
   "name": "python3"
  },
  "language_info": {
   "codemirror_mode": {
    "name": "ipython",
    "version": 3
   },
   "file_extension": ".py",
   "mimetype": "text/x-python",
   "name": "python",
   "nbconvert_exporter": "python",
   "pygments_lexer": "ipython3",
   "version": "3.8.11"
  },
  "toc": {
   "base_numbering": 1,
   "nav_menu": {},
   "number_sections": true,
   "sideBar": true,
   "skip_h1_title": false,
   "title_cell": "Table of Contents",
   "title_sidebar": "Contents",
   "toc_cell": false,
   "toc_position": {},
   "toc_section_display": true,
   "toc_window_display": false
  }
 },
 "nbformat": 4,
 "nbformat_minor": 5
}
