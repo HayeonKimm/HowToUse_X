{
 "cells": [
  {
   "cell_type": "markdown",
   "id": "b824d3aa",
   "metadata": {},
   "source": [
    "# 스스로 풀어보기"
   ]
  },
  {
   "cell_type": "code",
   "execution_count": 6,
   "id": "c07a0cf2",
   "metadata": {},
   "outputs": [
    {
     "name": "stdout",
     "output_type": "stream",
     "text": [
      "6\n"
     ]
    }
   ],
   "source": [
    "coin_ = [500,100,50,10]\n",
    "result=0\n",
    "n=1260\n",
    "\n",
    "for x in coin_:\n",
    "    \n",
    "    result+=n//x\n",
    "    n%=x\n",
    "    \n",
    "print(result)"
   ]
  },
  {
   "cell_type": "code",
   "execution_count": 4,
   "id": "45a5c22c",
   "metadata": {},
   "outputs": [
    {
     "name": "stdout",
     "output_type": "stream",
     "text": [
      "5 8 3\n",
      "2 4 5 4 6\n",
      "46\n"
     ]
    }
   ],
   "source": [
    "N,M,K=map(int,input().split())\n",
    "# 배열의 크기 N , 숫자가 더해지는 횟수 M, K번 초과 할 수 없는\n",
    "num=list(map(int,input().split()))\n",
    "\n",
    "num.sort()\n",
    "\n",
    "first=num[-1]\n",
    "second=num[-2]\n",
    "result=0\n",
    "\n",
    "\n",
    "while M!=0:\n",
    "\n",
    "    for i in range(K):\n",
    "\n",
    "        if M==0:\n",
    "            break\n",
    "\n",
    "        result+=first\n",
    "        M-=1\n",
    "\n",
    "    result+=second\n",
    "    M-=1\n",
    "    \n",
    "print(result)\n",
    "    \n",
    "\n",
    "#주어진 수들을 M번 더하여 가 장 큰 수를 만드는 법칙."
   ]
  }
 ],
 "metadata": {
  "hide_input": false,
  "kernelspec": {
   "display_name": "Python 3 (ipykernel)",
   "language": "python",
   "name": "python3"
  },
  "language_info": {
   "codemirror_mode": {
    "name": "ipython",
    "version": 3
   },
   "file_extension": ".py",
   "mimetype": "text/x-python",
   "name": "python",
   "nbconvert_exporter": "python",
   "pygments_lexer": "ipython3",
   "version": "3.8.11"
  },
  "toc": {
   "base_numbering": 1,
   "nav_menu": {},
   "number_sections": true,
   "sideBar": true,
   "skip_h1_title": false,
   "title_cell": "Table of Contents",
   "title_sidebar": "Contents",
   "toc_cell": false,
   "toc_position": {},
   "toc_section_display": true,
   "toc_window_display": false
  }
 },
 "nbformat": 4,
 "nbformat_minor": 5
}
