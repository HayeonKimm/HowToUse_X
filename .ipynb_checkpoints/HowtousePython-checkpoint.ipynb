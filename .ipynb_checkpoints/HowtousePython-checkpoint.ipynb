{
 "cells": [
  {
   "cell_type": "markdown",
   "metadata": {
    "id": "PsZ8GQ7Cd9uB"
   },
   "source": [
    "# How_to_use_Python    \n",
    "       \n",
    "        \n",
    "https://wikidocs.net/book/1 를 참고해서 작성 했습니다.\n",
    "\n",
    "211024~ 세세한 것 보단 중요한 것 위주로 정리합니다."
   ]
  },
  {
   "cell_type": "markdown",
   "metadata": {},
   "source": [
    "# 기초"
   ]
  },
  {
   "cell_type": "markdown",
   "metadata": {},
   "source": [
    "## 사칙연산"
   ]
  },
  {
   "cell_type": "code",
   "execution_count": 6,
   "metadata": {
    "colab": {
     "base_uri": "https://localhost:8080/"
    },
    "executionInfo": {
     "elapsed": 308,
     "status": "ok",
     "timestamp": 1635065266971,
     "user": {
      "displayName": "하루",
      "photoUrl": "https://lh3.googleusercontent.com/a-/AOh14Gh1kkFXQa8gBIyn-GL3vzfnOrTTFXOUit4T0V7o=s64",
      "userId": "03220678562672147041"
     },
     "user_tz": -540
    },
    "id": "B4Xv894UeMMa",
    "outputId": "cd2ad176-0ad5-4718-fcbe-cc702eaf3826"
   },
   "outputs": [
    {
     "name": "stdout",
     "output_type": "stream",
     "text": [
      "7\n",
      "12\n",
      "0.75\n",
      "81\n"
     ]
    }
   ],
   "source": [
    "a = 3 \n",
    "b = 4\n",
    "print(a+b) # 더하기\n",
    "print(a*b) # 곱하기\n",
    "print(a/b) # 나누기\n",
    "print(a**b) # 제곱"
   ]
  },
  {
   "cell_type": "code",
   "execution_count": 7,
   "metadata": {
    "colab": {
     "base_uri": "https://localhost:8080/"
    },
    "executionInfo": {
     "elapsed": 289,
     "status": "ok",
     "timestamp": 1635065312784,
     "user": {
      "displayName": "하루",
      "photoUrl": "https://lh3.googleusercontent.com/a-/AOh14Gh1kkFXQa8gBIyn-GL3vzfnOrTTFXOUit4T0V7o=s64",
      "userId": "03220678562672147041"
     },
     "user_tz": -540
    },
    "id": "Il_ABWjderLa",
    "outputId": "dda9de25-c51b-4f8c-c205-96f05cf921d4"
   },
   "outputs": [
    {
     "name": "stdout",
     "output_type": "stream",
     "text": [
      "3\n",
      "1\n"
     ]
    }
   ],
   "source": [
    "print(3%7) # 나눗셈 후 나머지를 반환하는 연산자\n",
    "print(7%3)"
   ]
  },
  {
   "cell_type": "code",
   "execution_count": 8,
   "metadata": {
    "colab": {
     "base_uri": "https://localhost:8080/"
    },
    "executionInfo": {
     "elapsed": 294,
     "status": "ok",
     "timestamp": 1635065338506,
     "user": {
      "displayName": "하루",
      "photoUrl": "https://lh3.googleusercontent.com/a-/AOh14Gh1kkFXQa8gBIyn-GL3vzfnOrTTFXOUit4T0V7o=s64",
      "userId": "03220678562672147041"
     },
     "user_tz": -540
    },
    "id": "iIAd3Ho0erbO",
    "outputId": "1602fbf9-cc25-4329-c339-3c2d2c956026"
   },
   "outputs": [
    {
     "data": {
      "text/plain": [
       "1.75"
      ]
     },
     "execution_count": 8,
     "metadata": {},
     "output_type": "execute_result"
    }
   ],
   "source": [
    "7/4 # 나눗셈 후 몫을 반환하는 연산자"
   ]
  },
  {
   "cell_type": "markdown",
   "metadata": {
    "id": "aInMAxgQeret"
   },
   "source": [
    "## 문자열에 작은 따옴표 (') 포함시키기 "
   ]
  },
  {
   "cell_type": "code",
   "execution_count": 11,
   "metadata": {
    "colab": {
     "base_uri": "https://localhost:8080/"
    },
    "executionInfo": {
     "elapsed": 327,
     "status": "ok",
     "timestamp": 1635065499439,
     "user": {
      "displayName": "하루",
      "photoUrl": "https://lh3.googleusercontent.com/a-/AOh14Gh1kkFXQa8gBIyn-GL3vzfnOrTTFXOUit4T0V7o=s64",
      "userId": "03220678562672147041"
     },
     "user_tz": -540
    },
    "id": "Cv6eYjqPerhr",
    "outputId": "c031575e-0482-422f-ea7e-61fcf7b1bc7d"
   },
   "outputs": [
    {
     "name": "stdout",
     "output_type": "stream",
     "text": [
      "Python's favorite food is perl\n"
     ]
    }
   ],
   "source": [
    "print(\"Python's favorite food is perl\")\n",
    "# 큰 따옴표로 감싸면 된다."
   ]
  },
  {
   "cell_type": "markdown",
   "metadata": {
    "id": "7wqUsJqnerkk"
   },
   "source": [
    "## 백슬래시를 사용해서 작은따옴표와 큰따옴표를 문자열에 포함시키기"
   ]
  },
  {
   "cell_type": "code",
   "execution_count": 14,
   "metadata": {
    "colab": {
     "base_uri": "https://localhost:8080/"
    },
    "executionInfo": {
     "elapsed": 319,
     "status": "ok",
     "timestamp": 1635065718628,
     "user": {
      "displayName": "하루",
      "photoUrl": "https://lh3.googleusercontent.com/a-/AOh14Gh1kkFXQa8gBIyn-GL3vzfnOrTTFXOUit4T0V7o=s64",
      "userId": "03220678562672147041"
     },
     "user_tz": -540
    },
    "id": "CqgYm9dygT9i",
    "outputId": "e2713c0a-2ead-439e-e54b-04af40afd16c"
   },
   "outputs": [
    {
     "name": "stdout",
     "output_type": "stream",
     "text": [
      "python 's favorite food is perl\n"
     ]
    }
   ],
   "source": [
    "print('python \\'s favorite food is perl')"
   ]
  },
  {
   "cell_type": "markdown",
   "metadata": {
    "id": "GZjGQfUUgx86"
   },
   "source": [
    "## 여러 줄인 문자열을 변수에 대입하고 싶을 때 "
   ]
  },
  {
   "cell_type": "code",
   "execution_count": 19,
   "metadata": {
    "colab": {
     "base_uri": "https://localhost:8080/"
    },
    "executionInfo": {
     "elapsed": 332,
     "status": "ok",
     "timestamp": 1635065825099,
     "user": {
      "displayName": "하루",
      "photoUrl": "https://lh3.googleusercontent.com/a-/AOh14Gh1kkFXQa8gBIyn-GL3vzfnOrTTFXOUit4T0V7o=s64",
      "userId": "03220678562672147041"
     },
     "user_tz": -540
    },
    "id": "Qu4z5gC5g2H-",
    "outputId": "0263ab89-1111-4611-c175-d7b7f967e31a"
   },
   "outputs": [
    {
     "name": "stdout",
     "output_type": "stream",
     "text": [
      "Life is too short \n",
      "You need Python\n"
     ]
    }
   ],
   "source": [
    "# 방법 1\n",
    "print('Life is too short \\nYou need Python')\n",
    "# \\n을 대입하면 된다."
   ]
  },
  {
   "cell_type": "code",
   "execution_count": 22,
   "metadata": {
    "colab": {
     "base_uri": "https://localhost:8080/"
    },
    "executionInfo": {
     "elapsed": 300,
     "status": "ok",
     "timestamp": 1635065909873,
     "user": {
      "displayName": "하루",
      "photoUrl": "https://lh3.googleusercontent.com/a-/AOh14Gh1kkFXQa8gBIyn-GL3vzfnOrTTFXOUit4T0V7o=s64",
      "userId": "03220678562672147041"
     },
     "user_tz": -540
    },
    "id": "Nv3rAGLZg2oQ",
    "outputId": "873e29b8-8fc6-43c1-d294-675eb596a63c"
   },
   "outputs": [
    {
     "name": "stdout",
     "output_type": "stream",
     "text": [
      "\n",
      "\n",
      "Life is too short \n",
      "You need Python\n",
      "\n",
      "\n"
     ]
    }
   ],
   "source": [
    "# 방법 2 \n",
    "\n",
    "multiline = '''\n",
    "\n",
    "Life is too short \n",
    "You need Python\n",
    "\n",
    "'''\n",
    "\n",
    "\n",
    "print(multiline)"
   ]
  },
  {
   "cell_type": "markdown",
   "metadata": {},
   "source": [
    "## 한 줄에 결괏값 출력하기"
   ]
  },
  {
   "cell_type": "code",
   "execution_count": 27,
   "metadata": {},
   "outputs": [
    {
     "name": "stdout",
     "output_type": "stream",
     "text": [
      "0 1 2 3 4 5 6 7 8 9 "
     ]
    }
   ],
   "source": [
    "for i in range(10):\n",
    "    print(i, end=' ')"
   ]
  },
  {
   "cell_type": "markdown",
   "metadata": {
    "id": "hr8TIgXbhe_p"
   },
   "source": [
    "## 문자열 연산하기"
   ]
  },
  {
   "cell_type": "code",
   "execution_count": 24,
   "metadata": {
    "colab": {
     "base_uri": "https://localhost:8080/",
     "height": 35
    },
    "executionInfo": {
     "elapsed": 323,
     "status": "ok",
     "timestamp": 1635065979324,
     "user": {
      "displayName": "하루",
      "photoUrl": "https://lh3.googleusercontent.com/a-/AOh14Gh1kkFXQa8gBIyn-GL3vzfnOrTTFXOUit4T0V7o=s64",
      "userId": "03220678562672147041"
     },
     "user_tz": -540
    },
    "id": "akcNHXaAhfTR",
    "outputId": "1ec9fcbe-9419-4e4f-ce36-5d18de5facdc"
   },
   "outputs": [
    {
     "data": {
      "application/vnd.google.colaboratory.intrinsic+json": {
       "type": "string"
      },
      "text/plain": [
       "'Python is fun!'"
      ]
     },
     "execution_count": 24,
     "metadata": {},
     "output_type": "execute_result"
    }
   ],
   "source": [
    "# 문자열 더해서 연결하기\n",
    "\n",
    "head = 'Python'\n",
    "tail = ' is fun!'\n",
    "\n",
    "head + tail"
   ]
  },
  {
   "cell_type": "code",
   "execution_count": 26,
   "metadata": {
    "colab": {
     "base_uri": "https://localhost:8080/",
     "height": 35
    },
    "executionInfo": {
     "elapsed": 300,
     "status": "ok",
     "timestamp": 1635066008928,
     "user": {
      "displayName": "하루",
      "photoUrl": "https://lh3.googleusercontent.com/a-/AOh14Gh1kkFXQa8gBIyn-GL3vzfnOrTTFXOUit4T0V7o=s64",
      "userId": "03220678562672147041"
     },
     "user_tz": -540
    },
    "id": "QT1v6ovuhfWN",
    "outputId": "bb71ae65-92b9-4e98-cf47-aefc5507b6d7"
   },
   "outputs": [
    {
     "data": {
      "application/vnd.google.colaboratory.intrinsic+json": {
       "type": "string"
      },
      "text/plain": [
       "'python python '"
      ]
     },
     "execution_count": 26,
     "metadata": {},
     "output_type": "execute_result"
    }
   ],
   "source": [
    "# 문자열 곱하기\n",
    "a = 'python '\n",
    "a*2"
   ]
  },
  {
   "cell_type": "code",
   "execution_count": 27,
   "metadata": {
    "colab": {
     "base_uri": "https://localhost:8080/"
    },
    "executionInfo": {
     "elapsed": 327,
     "status": "ok",
     "timestamp": 1635066099356,
     "user": {
      "displayName": "하루",
      "photoUrl": "https://lh3.googleusercontent.com/a-/AOh14Gh1kkFXQa8gBIyn-GL3vzfnOrTTFXOUit4T0V7o=s64",
      "userId": "03220678562672147041"
     },
     "user_tz": -540
    },
    "id": "v0Ga-RTbhfZK",
    "outputId": "85e69435-0bef-4fc1-9b9c-07b317dff2f5"
   },
   "outputs": [
    {
     "data": {
      "text/plain": [
       "33"
      ]
     },
     "execution_count": 27,
     "metadata": {},
     "output_type": "execute_result"
    }
   ],
   "source": [
    "# 문자열 길이 구하기\n",
    "\n",
    "a = 'Life is too short You need Python'\n",
    "\n",
    "len(a)"
   ]
  },
  {
   "cell_type": "markdown",
   "metadata": {
    "id": "u9rUKRKfhfbO"
   },
   "source": [
    "##  문자열 인덱싱과 슬라이싱"
   ]
  },
  {
   "cell_type": "code",
   "execution_count": 29,
   "metadata": {
    "colab": {
     "base_uri": "https://localhost:8080/"
    },
    "executionInfo": {
     "elapsed": 334,
     "status": "ok",
     "timestamp": 1635066171404,
     "user": {
      "displayName": "하루",
      "photoUrl": "https://lh3.googleusercontent.com/a-/AOh14Gh1kkFXQa8gBIyn-GL3vzfnOrTTFXOUit4T0V7o=s64",
      "userId": "03220678562672147041"
     },
     "user_tz": -540
    },
    "id": "zgslq2h7hfd6",
    "outputId": "11956fe3-3efd-47cb-80d8-b011879bd18e"
   },
   "outputs": [
    {
     "name": "stdout",
     "output_type": "stream",
     "text": [
      "['Life', 'is', 'too', 'short', 'You', 'need', 'Python']\n"
     ]
    }
   ],
   "source": [
    "a = \"Life is too short You need Python\"\n",
    "\n",
    "a=a.split(' ')\n",
    "print(a)"
   ]
  },
  {
   "cell_type": "code",
   "execution_count": 31,
   "metadata": {
    "colab": {
     "base_uri": "https://localhost:8080/",
     "height": 35
    },
    "executionInfo": {
     "elapsed": 308,
     "status": "ok",
     "timestamp": 1635066225774,
     "user": {
      "displayName": "하루",
      "photoUrl": "https://lh3.googleusercontent.com/a-/AOh14Gh1kkFXQa8gBIyn-GL3vzfnOrTTFXOUit4T0V7o=s64",
      "userId": "03220678562672147041"
     },
     "user_tz": -540
    },
    "id": "Y4sw3aYkhfgp",
    "outputId": "d0f65d69-8a9f-44f3-fd0b-38101325f150"
   },
   "outputs": [
    {
     "data": {
      "application/vnd.google.colaboratory.intrinsic+json": {
       "type": "string"
      },
      "text/plain": [
       "'e'"
      ]
     },
     "execution_count": 31,
     "metadata": {},
     "output_type": "execute_result"
    }
   ],
   "source": [
    "# 파이썬은 0부터 센다.\n",
    "a = \"Life is too short You need Python\"\n",
    "a[3] # L부터 0이다. 고로 e는 3"
   ]
  },
  {
   "cell_type": "code",
   "execution_count": 34,
   "metadata": {
    "colab": {
     "base_uri": "https://localhost:8080/",
     "height": 35
    },
    "executionInfo": {
     "elapsed": 289,
     "status": "ok",
     "timestamp": 1635066296057,
     "user": {
      "displayName": "하루",
      "photoUrl": "https://lh3.googleusercontent.com/a-/AOh14Gh1kkFXQa8gBIyn-GL3vzfnOrTTFXOUit4T0V7o=s64",
      "userId": "03220678562672147041"
     },
     "user_tz": -540
    },
    "id": "0Q5FvCeOhfje",
    "outputId": "61a532d7-8522-4304-aeeb-ea71a7462369"
   },
   "outputs": [
    {
     "data": {
      "application/vnd.google.colaboratory.intrinsic+json": {
       "type": "string"
      },
      "text/plain": [
       "'Life is too short You need Python'"
      ]
     },
     "execution_count": 34,
     "metadata": {},
     "output_type": "execute_result"
    }
   ],
   "source": [
    "# 응용\n",
    "\n",
    "a[0:4] + a[4:8] + a[8:]"
   ]
  },
  {
   "cell_type": "code",
   "execution_count": 40,
   "metadata": {
    "colab": {
     "base_uri": "https://localhost:8080/"
    },
    "executionInfo": {
     "elapsed": 305,
     "status": "ok",
     "timestamp": 1635067423978,
     "user": {
      "displayName": "하루",
      "photoUrl": "https://lh3.googleusercontent.com/a-/AOh14Gh1kkFXQa8gBIyn-GL3vzfnOrTTFXOUit4T0V7o=s64",
      "userId": "03220678562672147041"
     },
     "user_tz": -540
    },
    "id": "Vy84ISUbhfl-",
    "outputId": "e873e280-5eaa-4643-fc99-5589b1e65e40"
   },
   "outputs": [
    {
     "name": "stdout",
     "output_type": "stream",
     "text": [
      "20010331\n",
      "Rainy\n"
     ]
    }
   ],
   "source": [
    "# 응용2\n",
    "\n",
    "a = '20010331Rainy'\n",
    "\n",
    "Date = a[:8]\n",
    "weather = a[8:]\n",
    "\n",
    "print(Date) #날짜\n",
    "print(weather) # 날씨"
   ]
  },
  {
   "cell_type": "markdown",
   "metadata": {
    "id": "eKwKhf8GmqLI"
   },
   "source": [
    "## Pithon 이라는 문자열을 Python 으로 바꾸기"
   ]
  },
  {
   "cell_type": "code",
   "execution_count": 41,
   "metadata": {
    "colab": {
     "base_uri": "https://localhost:8080/"
    },
    "executionInfo": {
     "elapsed": 332,
     "status": "ok",
     "timestamp": 1635067497138,
     "user": {
      "displayName": "하루",
      "photoUrl": "https://lh3.googleusercontent.com/a-/AOh14Gh1kkFXQa8gBIyn-GL3vzfnOrTTFXOUit4T0V7o=s64",
      "userId": "03220678562672147041"
     },
     "user_tz": -540
    },
    "id": "nHWhPEafmqSJ",
    "outputId": "72b0a6b3-ab31-4e50-b0c2-bfbafeb4ed38"
   },
   "outputs": [
    {
     "name": "stdout",
     "output_type": "stream",
     "text": [
      "Python\n"
     ]
    }
   ],
   "source": [
    "# 방법1\n",
    "a = 'Pithon'\n",
    "a=a.replace('i','y')\n",
    "print(a)"
   ]
  },
  {
   "cell_type": "code",
   "execution_count": 52,
   "metadata": {
    "colab": {
     "base_uri": "https://localhost:8080/",
     "height": 35
    },
    "executionInfo": {
     "elapsed": 334,
     "status": "ok",
     "timestamp": 1635067764472,
     "user": {
      "displayName": "하루",
      "photoUrl": "https://lh3.googleusercontent.com/a-/AOh14Gh1kkFXQa8gBIyn-GL3vzfnOrTTFXOUit4T0V7o=s64",
      "userId": "03220678562672147041"
     },
     "user_tz": -540
    },
    "id": "aWTo4nw-mqf5",
    "outputId": "0086b04a-165d-47c0-dcec-e1d38b1dd966"
   },
   "outputs": [
    {
     "data": {
      "application/vnd.google.colaboratory.intrinsic+json": {
       "type": "string"
      },
      "text/plain": [
       "'Python'"
      ]
     },
     "execution_count": 52,
     "metadata": {},
     "output_type": "execute_result"
    }
   ],
   "source": [
    "# 방법2\n",
    "b = 'Pithon'\n",
    "# b[1]='y'\n",
    "\n",
    "#--> 에러가 뜬다. 문자열의 요솟값은 바꿀 수 없다.\n",
    "#TypeError: 'str' object does not support item assignment\n",
    "\n",
    "# 맞는 방법 \n",
    "b=b[0]+'y'+b[2:]\n",
    "b"
   ]
  },
  {
   "cell_type": "markdown",
   "metadata": {
    "id": "KXK92hGTmp00"
   },
   "source": [
    "## 문자열 포맷팅"
   ]
  },
  {
   "cell_type": "markdown",
   "metadata": {
    "id": "Ej2Xn1bjpkIw"
   },
   "source": [
    "### %s : 문자열 , %c : 문자한개, %d : 정수 "
   ]
  },
  {
   "cell_type": "code",
   "execution_count": 56,
   "metadata": {
    "colab": {
     "base_uri": "https://localhost:8080/"
    },
    "executionInfo": {
     "elapsed": 283,
     "status": "ok",
     "timestamp": 1635067904641,
     "user": {
      "displayName": "하루",
      "photoUrl": "https://lh3.googleusercontent.com/a-/AOh14Gh1kkFXQa8gBIyn-GL3vzfnOrTTFXOUit4T0V7o=s64",
      "userId": "03220678562672147041"
     },
     "user_tz": -540
    },
    "id": "ohCiBu7nhfoY",
    "outputId": "92c80f0f-6df3-4371-8ea3-9421892df279"
   },
   "outputs": [
    {
     "name": "stdout",
     "output_type": "stream",
     "text": [
      "I eat 3 apples\n",
      "I eat three apples\n"
     ]
    }
   ],
   "source": [
    "print(\"I eat %d apples\" %3) # 숫자\n",
    "print(\"I eat %s apples\" %'three') # 문자열"
   ]
  },
  {
   "cell_type": "code",
   "execution_count": 57,
   "metadata": {
    "colab": {
     "base_uri": "https://localhost:8080/",
     "height": 35
    },
    "executionInfo": {
     "elapsed": 414,
     "status": "ok",
     "timestamp": 1635067943859,
     "user": {
      "displayName": "하루",
      "photoUrl": "https://lh3.googleusercontent.com/a-/AOh14Gh1kkFXQa8gBIyn-GL3vzfnOrTTFXOUit4T0V7o=s64",
      "userId": "03220678562672147041"
     },
     "user_tz": -540
    },
    "id": "ctajpXm7hfrE",
    "outputId": "c7c239aa-2cd5-4756-999e-4bc01ee10909"
   },
   "outputs": [
    {
     "data": {
      "application/vnd.google.colaboratory.intrinsic+json": {
       "type": "string"
      },
      "text/plain": [
       "'I eat 3 apples'"
      ]
     },
     "execution_count": 57,
     "metadata": {},
     "output_type": "execute_result"
    }
   ],
   "source": [
    "# 숫자 값을 나타내는 변수로 대입\n",
    "number = 3 \n",
    "'I eat %d apples' %number"
   ]
  },
  {
   "cell_type": "code",
   "execution_count": 58,
   "metadata": {
    "colab": {
     "base_uri": "https://localhost:8080/",
     "height": 35
    },
    "executionInfo": {
     "elapsed": 304,
     "status": "ok",
     "timestamp": 1635068023243,
     "user": {
      "displayName": "하루",
      "photoUrl": "https://lh3.googleusercontent.com/a-/AOh14Gh1kkFXQa8gBIyn-GL3vzfnOrTTFXOUit4T0V7o=s64",
      "userId": "03220678562672147041"
     },
     "user_tz": -540
    },
    "id": "DvMb0FbTpRgJ",
    "outputId": "5fea6b88-b421-42e2-c3f5-7705b0403441"
   },
   "outputs": [
    {
     "data": {
      "application/vnd.google.colaboratory.intrinsic+json": {
       "type": "string"
      },
      "text/plain": [
       "'I ate 10 apples. so I was sick for three'"
      ]
     },
     "execution_count": 58,
     "metadata": {},
     "output_type": "execute_result"
    }
   ],
   "source": [
    "# 2개 이상의 값 넣기\n",
    "\n",
    "number = 10 \n",
    "day = 'three'\n",
    "'I ate %d apples. so I was sick for %s' %(number,day)"
   ]
  },
  {
   "cell_type": "markdown",
   "metadata": {
    "id": "uXpcqOO9p6zF"
   },
   "source": [
    "## 소수점 표현하기"
   ]
  },
  {
   "cell_type": "code",
   "execution_count": 59,
   "metadata": {
    "colab": {
     "base_uri": "https://localhost:8080/",
     "height": 35
    },
    "executionInfo": {
     "elapsed": 350,
     "status": "ok",
     "timestamp": 1635068167807,
     "user": {
      "displayName": "하루",
      "photoUrl": "https://lh3.googleusercontent.com/a-/AOh14Gh1kkFXQa8gBIyn-GL3vzfnOrTTFXOUit4T0V7o=s64",
      "userId": "03220678562672147041"
     },
     "user_tz": -540
    },
    "id": "XJoxw1Urp8Df",
    "outputId": "f78303b9-b911-4200-fa10-24c7007b56e7"
   },
   "outputs": [
    {
     "data": {
      "application/vnd.google.colaboratory.intrinsic+json": {
       "type": "string"
      },
      "text/plain": [
       "'3.2142'"
      ]
     },
     "execution_count": 59,
     "metadata": {},
     "output_type": "execute_result"
    }
   ],
   "source": [
    "# 소수점 넷째 자리까지 표현 \n",
    "\"%0.4f\" %3.21415166 "
   ]
  },
  {
   "cell_type": "code",
   "execution_count": 1,
   "metadata": {},
   "outputs": [
    {
     "data": {
      "text/plain": [
       "'3.2341'"
      ]
     },
     "execution_count": 1,
     "metadata": {},
     "output_type": "execute_result"
    }
   ],
   "source": [
    "y = 3.234145\n",
    "\"{0:0.4f}\".format(y)"
   ]
  },
  {
   "cell_type": "markdown",
   "metadata": {
    "id": "mM_UVprPp8M-"
   },
   "source": [
    "## 바로 대입하기"
   ]
  },
  {
   "cell_type": "code",
   "execution_count": 62,
   "metadata": {
    "colab": {
     "base_uri": "https://localhost:8080/",
     "height": 35
    },
    "executionInfo": {
     "elapsed": 303,
     "status": "ok",
     "timestamp": 1635068300297,
     "user": {
      "displayName": "하루",
      "photoUrl": "https://lh3.googleusercontent.com/a-/AOh14Gh1kkFXQa8gBIyn-GL3vzfnOrTTFXOUit4T0V7o=s64",
      "userId": "03220678562672147041"
     },
     "user_tz": -540
    },
    "id": "kaIOnvjvp8Q2",
    "outputId": "1fed0936-7079-491b-d32c-0e96fd8d8d51"
   },
   "outputs": [
    {
     "data": {
      "application/vnd.google.colaboratory.intrinsic+json": {
       "type": "string"
      },
      "text/plain": [
       "'I eat hansome banana'"
      ]
     },
     "execution_count": 62,
     "metadata": {},
     "output_type": "execute_result"
    }
   ],
   "source": [
    "'I eat {} banana'.format(3) # 숫자\n",
    "'I eat {} banana'.format('hansome') # 문자열"
   ]
  },
  {
   "cell_type": "code",
   "execution_count": 64,
   "metadata": {
    "colab": {
     "base_uri": "https://localhost:8080/",
     "height": 35
    },
    "executionInfo": {
     "elapsed": 288,
     "status": "ok",
     "timestamp": 1635068392499,
     "user": {
      "displayName": "하루",
      "photoUrl": "https://lh3.googleusercontent.com/a-/AOh14Gh1kkFXQa8gBIyn-GL3vzfnOrTTFXOUit4T0V7o=s64",
      "userId": "03220678562672147041"
     },
     "user_tz": -540
    },
    "id": "4G91QHM5p8Ug",
    "outputId": "f65b6be1-6013-469e-94c3-80b6e31249ac",
    "scrolled": true
   },
   "outputs": [
    {
     "data": {
      "application/vnd.google.colaboratory.intrinsic+json": {
       "type": "string"
      },
      "text/plain": [
       "\"I eat 4 banana because I'm hungry\""
      ]
     },
     "execution_count": 64,
     "metadata": {},
     "output_type": "execute_result"
    }
   ],
   "source": [
    "# 두개 이상의 값 넣기\n",
    "\n",
    "'I eat {0} banana because I\\'m {1}'.format(4,'hungry')"
   ]
  },
  {
   "cell_type": "markdown",
   "metadata": {},
   "source": [
    "## 문자 개수 세기"
   ]
  },
  {
   "cell_type": "code",
   "execution_count": 6,
   "metadata": {
    "scrolled": true
   },
   "outputs": [
    {
     "data": {
      "text/plain": [
       "2"
      ]
     },
     "execution_count": 6,
     "metadata": {},
     "output_type": "execute_result"
    }
   ],
   "source": [
    "a = 'hayeonKimm'\n",
    "a.count('h') # h가 몇번 들어갔는지 세기\n",
    "a.count('m') # m이 몇번 들어갔는지"
   ]
  },
  {
   "cell_type": "markdown",
   "metadata": {},
   "source": [
    "## 위치 알려주기"
   ]
  },
  {
   "cell_type": "code",
   "execution_count": 8,
   "metadata": {
    "scrolled": true
   },
   "outputs": [
    {
     "data": {
      "text/plain": [
       "0"
      ]
     },
     "execution_count": 8,
     "metadata": {},
     "output_type": "execute_result"
    }
   ],
   "source": [
    "a = 'Python is Very Good'\n",
    "a.find('is') # 7에 처음 나온다.\n",
    "a.find('P') # 0 자리에 나온다."
   ]
  },
  {
   "cell_type": "markdown",
   "metadata": {},
   "source": [
    "## 문자열 삽입"
   ]
  },
  {
   "cell_type": "code",
   "execution_count": 11,
   "metadata": {},
   "outputs": [
    {
     "data": {
      "text/plain": [
       "'a,b,c,d'"
      ]
     },
     "execution_count": 11,
     "metadata": {},
     "output_type": "execute_result"
    }
   ],
   "source": [
    "# ,를 기준으로 문자열 삽입\n",
    "\",\".join('abcd')"
   ]
  },
  {
   "cell_type": "markdown",
   "metadata": {},
   "source": [
    "## 소문자를 대문자로 바꾸기 (혹은 반대)"
   ]
  },
  {
   "cell_type": "code",
   "execution_count": 15,
   "metadata": {},
   "outputs": [
    {
     "data": {
      "text/plain": [
       "'hi'"
      ]
     },
     "execution_count": 15,
     "metadata": {},
     "output_type": "execute_result"
    }
   ],
   "source": [
    "# 소 -> 대\n",
    "a = 'hi'\n",
    "a=a.upper()\n",
    "a\n",
    "\n",
    "# 대 -> 소\n",
    "\n",
    "a = 'HI'\n",
    "a=a.lower()\n",
    "a"
   ]
  },
  {
   "cell_type": "markdown",
   "metadata": {},
   "source": [
    "## 공백지우기"
   ]
  },
  {
   "cell_type": "code",
   "execution_count": 16,
   "metadata": {},
   "outputs": [
    {
     "data": {
      "text/plain": [
       "'hi'"
      ]
     },
     "execution_count": 16,
     "metadata": {},
     "output_type": "execute_result"
    }
   ],
   "source": [
    "a= '  hi'\n",
    "a.lstrip() # 왼쪽 공백들을 지운다.\n",
    "# 지금부터 할당은 생략."
   ]
  },
  {
   "cell_type": "code",
   "execution_count": 17,
   "metadata": {},
   "outputs": [
    {
     "data": {
      "text/plain": [
       "'hi'"
      ]
     },
     "execution_count": 17,
     "metadata": {},
     "output_type": "execute_result"
    }
   ],
   "source": [
    "a= 'hi    '\n",
    "a.rstrip() #  오른쪽 공백 제거"
   ]
  },
  {
   "cell_type": "markdown",
   "metadata": {},
   "source": [
    "## 문자열 바꾸기 "
   ]
  },
  {
   "cell_type": "code",
   "execution_count": 19,
   "metadata": {},
   "outputs": [
    {
     "data": {
      "text/plain": [
       "'Game is too short'"
      ]
     },
     "execution_count": 19,
     "metadata": {},
     "output_type": "execute_result"
    }
   ],
   "source": [
    "## 문자열 바꾸기 \n",
    "\n",
    "a= \"Life is too short\"\n",
    "a.replace(\"Life\",\"Game\")"
   ]
  },
  {
   "cell_type": "markdown",
   "metadata": {},
   "source": [
    "## 문자열 나누기"
   ]
  },
  {
   "cell_type": "code",
   "execution_count": 21,
   "metadata": {
    "scrolled": true
   },
   "outputs": [
    {
     "data": {
      "text/plain": [
       "['a', 'b', 'c', 'd']"
      ]
     },
     "execution_count": 21,
     "metadata": {},
     "output_type": "execute_result"
    }
   ],
   "source": [
    "a = \"Life is too short\"\n",
    "a.split() # 공백을 기준으로 문자열 나눔\n",
    "\n",
    "b= \"a:b:c:d\"\n",
    "b.split(':') # :를 기준으로 나눔"
   ]
  },
  {
   "cell_type": "markdown",
   "metadata": {},
   "source": [
    "# 리스트"
   ]
  },
  {
   "cell_type": "code",
   "execution_count": 22,
   "metadata": {},
   "outputs": [
    {
     "data": {
      "text/plain": [
       "[1, 3, 5, 7, 9]"
      ]
     },
     "execution_count": 22,
     "metadata": {},
     "output_type": "execute_result"
    }
   ],
   "source": [
    "odd = [1,3,5,7,9]\n",
    "odd"
   ]
  },
  {
   "cell_type": "markdown",
   "metadata": {},
   "source": [
    "리스트의 인덱싱과 슬라이싱\n",
    "\n",
    "리스트도 문자열처럼 인덱싱과 슬라이싱이 가능하다."
   ]
  },
  {
   "cell_type": "code",
   "execution_count": 25,
   "metadata": {},
   "outputs": [
    {
     "data": {
      "text/plain": [
       "[1, 3, 5, 7, 9]"
      ]
     },
     "execution_count": 25,
     "metadata": {},
     "output_type": "execute_result"
    }
   ],
   "source": [
    "odd[0]\n",
    "odd[0:]"
   ]
  },
  {
   "cell_type": "markdown",
   "metadata": {},
   "source": [
    "더하기도 가능하다."
   ]
  },
  {
   "cell_type": "code",
   "execution_count": 28,
   "metadata": {},
   "outputs": [
    {
     "data": {
      "text/plain": [
       "3"
      ]
     },
     "execution_count": 28,
     "metadata": {},
     "output_type": "execute_result"
    }
   ],
   "source": [
    "aX = [1,2,3,4,5]\n",
    "\n",
    "aX[0]+aX[1]"
   ]
  },
  {
   "cell_type": "code",
   "execution_count": 36,
   "metadata": {},
   "outputs": [
    {
     "data": {
      "text/plain": [
       "'a'"
      ]
     },
     "execution_count": 36,
     "metadata": {},
     "output_type": "execute_result"
    }
   ],
   "source": [
    "ac = [1,2,3,['a','b','c']]\n",
    "\n",
    "ac[0]\n",
    "ac[3]\n",
    "ac[-1]\n",
    "\n",
    "ac[-1][0] # a 끄집어오기"
   ]
  },
  {
   "cell_type": "markdown",
   "metadata": {},
   "source": [
    "## 리스트 더하기"
   ]
  },
  {
   "cell_type": "code",
   "execution_count": 37,
   "metadata": {},
   "outputs": [
    {
     "data": {
      "text/plain": [
       "[1, 2, 3, 4, 5, 6]"
      ]
     },
     "execution_count": 37,
     "metadata": {},
     "output_type": "execute_result"
    }
   ],
   "source": [
    "a= [1,2,3]\n",
    "b= [4,5,6]\n",
    "\n",
    "a+b"
   ]
  },
  {
   "cell_type": "markdown",
   "metadata": {},
   "source": [
    "## 리스트 반복하기"
   ]
  },
  {
   "cell_type": "code",
   "execution_count": 39,
   "metadata": {},
   "outputs": [
    {
     "data": {
      "text/plain": [
       "[1, 2, 3, 1, 2, 3, 1, 2, 3]"
      ]
     },
     "execution_count": 39,
     "metadata": {},
     "output_type": "execute_result"
    }
   ],
   "source": [
    "a = [1,2,3]\n",
    "a*3"
   ]
  },
  {
   "cell_type": "markdown",
   "metadata": {},
   "source": [
    "## 리스트 길이 구하기"
   ]
  },
  {
   "cell_type": "code",
   "execution_count": 40,
   "metadata": {},
   "outputs": [
    {
     "data": {
      "text/plain": [
       "3"
      ]
     },
     "execution_count": 40,
     "metadata": {},
     "output_type": "execute_result"
    }
   ],
   "source": [
    "len(a)"
   ]
  },
  {
   "cell_type": "markdown",
   "metadata": {},
   "source": [
    "## 리스트에서 값 수정하기"
   ]
  },
  {
   "cell_type": "code",
   "execution_count": 45,
   "metadata": {},
   "outputs": [
    {
     "data": {
      "text/plain": [
       "[1, 2, 4]"
      ]
     },
     "execution_count": 45,
     "metadata": {},
     "output_type": "execute_result"
    }
   ],
   "source": [
    "a = [1,2,3]\n",
    "a[2]=4\n",
    "\n",
    "a"
   ]
  },
  {
   "cell_type": "markdown",
   "metadata": {},
   "source": [
    "## del 함수 사용해서 리스트 요소 삭제하기"
   ]
  },
  {
   "cell_type": "code",
   "execution_count": 46,
   "metadata": {},
   "outputs": [
    {
     "data": {
      "text/plain": [
       "[1, 2]"
      ]
     },
     "execution_count": 46,
     "metadata": {},
     "output_type": "execute_result"
    }
   ],
   "source": [
    "del a[2]\n",
    "a"
   ]
  },
  {
   "cell_type": "markdown",
   "metadata": {},
   "source": [
    "## 리스트 요소 제거 (remove)"
   ]
  },
  {
   "cell_type": "code",
   "execution_count": 56,
   "metadata": {},
   "outputs": [
    {
     "data": {
      "text/plain": [
       "[1, 2, 1, 2, 3]"
      ]
     },
     "execution_count": 56,
     "metadata": {},
     "output_type": "execute_result"
    }
   ],
   "source": [
    "a = [1,2,3,1,2,3]\n",
    "a.remove(3) # 첫 3을 제거하라.\n",
    "a"
   ]
  },
  {
   "cell_type": "markdown",
   "metadata": {},
   "source": [
    "## 리스트에 요소 추가 (append)"
   ]
  },
  {
   "cell_type": "code",
   "execution_count": 47,
   "metadata": {},
   "outputs": [
    {
     "data": {
      "text/plain": [
       "[1, 2, 16]"
      ]
     },
     "execution_count": 47,
     "metadata": {},
     "output_type": "execute_result"
    }
   ],
   "source": [
    "a.append(16)\n",
    "a"
   ]
  },
  {
   "cell_type": "markdown",
   "metadata": {},
   "source": [
    "리스트에 다시 리스트 추가하기"
   ]
  },
  {
   "cell_type": "code",
   "execution_count": 48,
   "metadata": {},
   "outputs": [
    {
     "data": {
      "text/plain": [
       "[1, 2, 16, [1, 1, 1, 1]]"
      ]
     },
     "execution_count": 48,
     "metadata": {},
     "output_type": "execute_result"
    }
   ],
   "source": [
    "a.append([1,1,1,1])\n",
    "a"
   ]
  },
  {
   "cell_type": "markdown",
   "metadata": {},
   "source": [
    "## 리스트 정렬"
   ]
  },
  {
   "cell_type": "markdown",
   "metadata": {},
   "source": [
    "숫자 정렬"
   ]
  },
  {
   "cell_type": "code",
   "execution_count": 50,
   "metadata": {},
   "outputs": [
    {
     "data": {
      "text/plain": [
       "[1, 2, 3, 4]"
      ]
     },
     "execution_count": 50,
     "metadata": {},
     "output_type": "execute_result"
    }
   ],
   "source": [
    "a = [1,4,3,2]\n",
    "a.sort()\n",
    "a"
   ]
  },
  {
   "cell_type": "markdown",
   "metadata": {},
   "source": [
    "문자열 정렬"
   ]
  },
  {
   "cell_type": "code",
   "execution_count": 51,
   "metadata": {},
   "outputs": [
    {
     "data": {
      "text/plain": [
       "['a', 'b', 'c']"
      ]
     },
     "execution_count": 51,
     "metadata": {},
     "output_type": "execute_result"
    }
   ],
   "source": [
    "a = ['b','c','a']\n",
    "a.sort()\n",
    "a"
   ]
  },
  {
   "cell_type": "markdown",
   "metadata": {},
   "source": [
    "## 리스트 뒤집기 reverse"
   ]
  },
  {
   "cell_type": "code",
   "execution_count": 52,
   "metadata": {},
   "outputs": [
    {
     "data": {
      "text/plain": [
       "['a', 'c', 'b']"
      ]
     },
     "execution_count": 52,
     "metadata": {},
     "output_type": "execute_result"
    }
   ],
   "source": [
    "a = ['b','c','a']\n",
    "a.reverse()\n",
    "a"
   ]
  },
  {
   "cell_type": "markdown",
   "metadata": {},
   "source": [
    "## 위치 반환 (index)"
   ]
  },
  {
   "cell_type": "code",
   "execution_count": 53,
   "metadata": {},
   "outputs": [
    {
     "data": {
      "text/plain": [
       "2"
      ]
     },
     "execution_count": 53,
     "metadata": {},
     "output_type": "execute_result"
    }
   ],
   "source": [
    "a = [3,4,5]\n",
    "a.index(3)\n",
    "a.index(5) # 5가 있는 위치를 반환한다."
   ]
  },
  {
   "cell_type": "markdown",
   "metadata": {},
   "source": [
    "## 리스트에 요소 삽입(insert)"
   ]
  },
  {
   "cell_type": "code",
   "execution_count": 55,
   "metadata": {
    "scrolled": true
   },
   "outputs": [
    {
     "data": {
      "text/plain": [
       "[4, 1, 2, 3]"
      ]
     },
     "execution_count": 55,
     "metadata": {},
     "output_type": "execute_result"
    }
   ],
   "source": [
    "a = [1,2,3]\n",
    "a.insert(0,4) # 0의 자리에 4 삽입\n",
    "a"
   ]
  },
  {
   "cell_type": "markdown",
   "metadata": {},
   "source": [
    "## 리스트 확장하기.(extend)"
   ]
  },
  {
   "cell_type": "code",
   "execution_count": 57,
   "metadata": {},
   "outputs": [
    {
     "data": {
      "text/plain": [
       "[1, 2, 3, 4, 5, 6]"
      ]
     },
     "execution_count": 57,
     "metadata": {},
     "output_type": "execute_result"
    }
   ],
   "source": [
    "a=[1,2,3]\n",
    "a.extend([4,5,6]) # ==  a+=[4,5]\n",
    "a"
   ]
  },
  {
   "cell_type": "markdown",
   "metadata": {},
   "source": [
    "# 튜플 (Tuple)"
   ]
  },
  {
   "cell_type": "markdown",
   "metadata": {},
   "source": [
    "리스트는 그 값의 생성 삭제 수정이 가능하지만 튜플은 그 값을 바꿀 수 없다."
   ]
  },
  {
   "cell_type": "markdown",
   "metadata": {},
   "source": [
    "## 인덱싱"
   ]
  },
  {
   "cell_type": "code",
   "execution_count": 60,
   "metadata": {},
   "outputs": [
    {
     "data": {
      "text/plain": [
       "'a'"
      ]
     },
     "execution_count": 60,
     "metadata": {},
     "output_type": "execute_result"
    }
   ],
   "source": [
    "t1 = (1,2,'a','b')\n",
    "t1[2]"
   ]
  },
  {
   "cell_type": "markdown",
   "metadata": {},
   "source": [
    "## 슬라이싱"
   ]
  },
  {
   "cell_type": "code",
   "execution_count": 61,
   "metadata": {},
   "outputs": [
    {
     "data": {
      "text/plain": [
       "(2, 'a', 'b')"
      ]
     },
     "execution_count": 61,
     "metadata": {},
     "output_type": "execute_result"
    }
   ],
   "source": [
    "t1 =(1,2,'a','b')\n",
    "t1[1:]"
   ]
  },
  {
   "cell_type": "markdown",
   "metadata": {},
   "source": [
    "## 사칙연산"
   ]
  },
  {
   "cell_type": "code",
   "execution_count": 62,
   "metadata": {},
   "outputs": [
    {
     "data": {
      "text/plain": [
       "(1, 2, 'a', 'b', 3, 4)"
      ]
     },
     "execution_count": 62,
     "metadata": {},
     "output_type": "execute_result"
    }
   ],
   "source": [
    "# 더하기\n",
    "t2 = (3,4)\n",
    "t1+t2"
   ]
  },
  {
   "cell_type": "code",
   "execution_count": 63,
   "metadata": {},
   "outputs": [
    {
     "data": {
      "text/plain": [
       "(3, 4, 3, 4, 3, 4)"
      ]
     },
     "execution_count": 63,
     "metadata": {},
     "output_type": "execute_result"
    }
   ],
   "source": [
    "# 곱하기\n",
    "\n",
    "t2*3"
   ]
  },
  {
   "cell_type": "markdown",
   "metadata": {},
   "source": [
    "## 길이 구하기"
   ]
  },
  {
   "cell_type": "code",
   "execution_count": 64,
   "metadata": {},
   "outputs": [
    {
     "data": {
      "text/plain": [
       "4"
      ]
     },
     "execution_count": 64,
     "metadata": {},
     "output_type": "execute_result"
    }
   ],
   "source": [
    "t1 = (1,2,'a','b')\n",
    "len(t1)"
   ]
  },
  {
   "cell_type": "markdown",
   "metadata": {},
   "source": [
    "# 딕셔너리 자료형"
   ]
  },
  {
   "cell_type": "markdown",
   "metadata": {},
   "source": [
    "기본 딕셔너리 모습   \n",
    "{Key1:Value1, Key2:Value2, Key3:Value3, ...}"
   ]
  },
  {
   "cell_type": "markdown",
   "metadata": {},
   "source": [
    "### 딕셔너리 만들기"
   ]
  },
  {
   "cell_type": "code",
   "execution_count": 67,
   "metadata": {},
   "outputs": [
    {
     "data": {
      "text/plain": [
       "{'name': 'pey', 'phone': '011-999-2323', 'birth': '0720'}"
      ]
     },
     "execution_count": 67,
     "metadata": {},
     "output_type": "execute_result"
    }
   ],
   "source": [
    "dic = {'name':'pey', 'phone':'011-999-2323', 'birth': '0720'}\n",
    "dic"
   ]
  },
  {
   "cell_type": "code",
   "execution_count": 71,
   "metadata": {},
   "outputs": [
    {
     "data": {
      "text/plain": [
       "{'a': [1, 2, 3]}"
      ]
     },
     "execution_count": 71,
     "metadata": {},
     "output_type": "execute_result"
    }
   ],
   "source": [
    "a = {1: 'hi'} # value 값에 문자열은 따옴표를 붙여서.\n",
    "a = { 'a': [1,2,3]} # 리스트도 넣을 수 있다.\n",
    "a"
   ]
  },
  {
   "cell_type": "markdown",
   "metadata": {},
   "source": [
    "## 딕셔너리에 쌍 추가하기"
   ]
  },
  {
   "cell_type": "code",
   "execution_count": 75,
   "metadata": {},
   "outputs": [
    {
     "data": {
      "text/plain": [
       "{1: 'a', 2: 'b'}"
      ]
     },
     "execution_count": 75,
     "metadata": {},
     "output_type": "execute_result"
    }
   ],
   "source": [
    "a = {1: 'a'}\n",
    "a[2] = 'b' # 2는 키값 'b'는 밸류값.\n",
    "a"
   ]
  },
  {
   "cell_type": "code",
   "execution_count": 77,
   "metadata": {},
   "outputs": [
    {
     "data": {
      "text/plain": [
       "{1: 'a', 2: 'b', 'name': 'pey', 'hayeon': 'imma'}"
      ]
     },
     "execution_count": 77,
     "metadata": {},
     "output_type": "execute_result"
    }
   ],
   "source": [
    "a['name'] = 'pey'\n",
    "a['hayeon'] = 'imma'\n",
    "a"
   ]
  },
  {
   "cell_type": "markdown",
   "metadata": {},
   "source": [
    "## 딕셔너리 요소 제거하기"
   ]
  },
  {
   "cell_type": "code",
   "execution_count": 78,
   "metadata": {},
   "outputs": [
    {
     "data": {
      "text/plain": [
       "{2: 'b', 'name': 'pey', 'hayeon': 'imma'}"
      ]
     },
     "execution_count": 78,
     "metadata": {},
     "output_type": "execute_result"
    }
   ],
   "source": [
    "del a[1]\n",
    "a"
   ]
  },
  {
   "cell_type": "markdown",
   "metadata": {},
   "source": [
    "## 딕셔너리 활용 사례"
   ]
  },
  {
   "cell_type": "markdown",
   "metadata": {},
   "source": [
    "리스트나 문자열로는 표현하기가 상당히 까다로울 것이다.   \n",
    "   \n",
    "하지만 파이썬의 딕셔너리를 사용한다면 이 상황을 표현하기가 정말 쉽다. 다음 예를 보자."
   ]
  },
  {
   "cell_type": "code",
   "execution_count": 80,
   "metadata": {},
   "outputs": [
    {
     "data": {
      "text/plain": [
       "90"
      ]
     },
     "execution_count": 80,
     "metadata": {},
     "output_type": "execute_result"
    }
   ],
   "source": [
    "house_price = {'gangnam':1000,'gyeonggi':90}\n",
    "house_price['gangnam']\n",
    "house_price['gyeonggi']"
   ]
  },
  {
   "cell_type": "markdown",
   "metadata": {},
   "source": [
    "### 딕셔너리 만들 때 주의할 사항   \n",
    "   \n",
    "먼저 딕셔너리에서 Key는 고유한 값이므로 중복되는 Key 값을 설정해 놓으면 하나를 제외한 나머지 것들이 모두 무시된다는 점을 주의해야 한다.\n",
    "   \n",
    "다음 예에서 볼 수 있듯이 동일한 Key가 2개 존재할 경우 1:'a' 쌍이 무시된다."
   ]
  },
  {
   "cell_type": "code",
   "execution_count": 82,
   "metadata": {},
   "outputs": [
    {
     "name": "stdout",
     "output_type": "stream",
     "text": [
      "name\n",
      "phone\n",
      "birth\n"
     ]
    }
   ],
   "source": [
    "# 반복문 활용사례\n",
    "\n",
    "a = {'name': 'pey', 'phone': '0119993323', 'birth': '1118'}\n",
    "a.keys()\n",
    "\n",
    "for i in a.keys():  # a.keys()를 통해서 key값만 불러올 수 있다.\n",
    "    print(i)"
   ]
  },
  {
   "cell_type": "code",
   "execution_count": 84,
   "metadata": {},
   "outputs": [
    {
     "data": {
      "text/plain": [
       "dict_items([('name', 'pey'), ('phone', '0119993323'), ('birth', '1118')])"
      ]
     },
     "execution_count": 84,
     "metadata": {},
     "output_type": "execute_result"
    }
   ],
   "source": [
    "# 다양한 도구들.\n",
    "a.keys()\n",
    "a.values()\n",
    "a.items()"
   ]
  },
  {
   "cell_type": "code",
   "execution_count": null,
   "metadata": {},
   "outputs": [],
   "source": [
    "a.clear()"
   ]
  },
  {
   "cell_type": "markdown",
   "metadata": {},
   "source": [
    "## key로 value 얻기 (get)"
   ]
  },
  {
   "cell_type": "code",
   "execution_count": 85,
   "metadata": {},
   "outputs": [
    {
     "data": {
      "text/plain": [
       "10"
      ]
     },
     "execution_count": 85,
     "metadata": {},
     "output_type": "execute_result"
    }
   ],
   "source": [
    "a = {'python':10,'jave':'javajjang','c++':200}\n",
    "a.get('python')"
   ]
  },
  {
   "cell_type": "markdown",
   "metadata": {},
   "source": [
    "get(x) 함수는 x라는 Key에 대응되는 Value를 돌려준다.   \n",
    "\n",
    "앞에서 살펴보았듯이 a.get('name')은 a['name']을 사용했을 때와 동일한 결괏값을 돌려받는다.   \n",
    "\n",
    "다만 다음 예제에서 볼 수 있듯이 a['nokey']처럼 존재하지 않는 키(nokey)로 값을 가져오려고 할 경우 a['nokey']는 Key 오류를 발생시키고 a.get('nokey')는 None을 돌려준다는 차이가 있다.       \n",
    "어떤것을 사용할지는 여러분의 선택이다."
   ]
  },
  {
   "cell_type": "markdown",
   "metadata": {},
   "source": [
    "## 해당 Key가 딕셔너리 안에 있는지 조사하기(in)"
   ]
  },
  {
   "cell_type": "code",
   "execution_count": 89,
   "metadata": {},
   "outputs": [
    {
     "data": {
      "text/plain": [
       "False"
      ]
     },
     "execution_count": 89,
     "metadata": {},
     "output_type": "execute_result"
    }
   ],
   "source": [
    "a = {'python':10,'java':'javajjang','c++':200}\n",
    "\n",
    "'python' in a\n",
    "'java' in a\n",
    "'django' in a"
   ]
  },
  {
   "cell_type": "markdown",
   "metadata": {},
   "source": [
    "# 집합 자료형"
   ]
  },
  {
   "cell_type": "markdown",
   "metadata": {},
   "source": [
    "집합(set)은 파이썬 2.3부터 지원하기 시작한 자료형으로,   \n",
    "집합에 관련된 것을 쉽게 처리하기 위해 만든 자료형이다."
   ]
  },
  {
   "cell_type": "code",
   "execution_count": 90,
   "metadata": {},
   "outputs": [
    {
     "data": {
      "text/plain": [
       "{1, 2, 3}"
      ]
     },
     "execution_count": 90,
     "metadata": {},
     "output_type": "execute_result"
    }
   ],
   "source": [
    "set1 = set([1,2,3])\n",
    "set1"
   ]
  },
  {
   "cell_type": "markdown",
   "metadata": {},
   "source": [
    "문자열을 넣어서 따로 분리시킬 수 있다."
   ]
  },
  {
   "cell_type": "code",
   "execution_count": 91,
   "metadata": {},
   "outputs": [
    {
     "data": {
      "text/plain": [
       "{'H', 'e', 'l', 'o'}"
      ]
     },
     "execution_count": 91,
     "metadata": {},
     "output_type": "execute_result"
    }
   ],
   "source": [
    "s2 = set(\"Hello\")\n",
    "s2"
   ]
  },
  {
   "cell_type": "markdown",
   "metadata": {},
   "source": [
    "### 집합 자료형의 특징\n",
    "\n",
    "중복을 허용하지 않는다.\n",
    "순서가 없다(Unordered).\n",
    "\n",
    "\n",
    "\n",
    "리스트나 튜플은 순서가 있기(ordered) 때문에 인덱싱을 통해 자료형의 값을 얻을 수 있지만 set 자료형은 순서가 없기(unordered) 때문에 인덱싱으로 값을 얻을 수 없다.     \n",
    "   \n",
    "이는 마치 02-5에서 살펴본 딕셔너리와 비슷하다. 딕셔너리 역시 순서가 없는 자료형이라 인덱싱을 지원하지 않는다.   \n",
    "   \n",
    "만약 set 자료형에 저장된 값을 인덱싱으로 접근하려면 다음과 같이 리스트나 튜플로 변환한후 해야 한다."
   ]
  },
  {
   "cell_type": "markdown",
   "metadata": {},
   "source": [
    "## 교집합, 합집합, 차집합 구하기"
   ]
  },
  {
   "cell_type": "code",
   "execution_count": 92,
   "metadata": {},
   "outputs": [],
   "source": [
    ">>> s1 = set([1, 2, 3, 4, 5, 6])\n",
    ">>> s2 = set([4, 5, 6, 7, 8, 9])"
   ]
  },
  {
   "cell_type": "code",
   "execution_count": 93,
   "metadata": {},
   "outputs": [
    {
     "data": {
      "text/plain": [
       "{4, 5, 6}"
      ]
     },
     "execution_count": 93,
     "metadata": {},
     "output_type": "execute_result"
    }
   ],
   "source": [
    "# 교집합\n",
    "s1 & s2"
   ]
  },
  {
   "cell_type": "code",
   "execution_count": 94,
   "metadata": {},
   "outputs": [
    {
     "data": {
      "text/plain": [
       "{4, 5, 6}"
      ]
     },
     "execution_count": 94,
     "metadata": {},
     "output_type": "execute_result"
    }
   ],
   "source": [
    "# 교집합 2\n",
    "s1.intersection(s2)"
   ]
  },
  {
   "cell_type": "code",
   "execution_count": 96,
   "metadata": {},
   "outputs": [
    {
     "data": {
      "text/plain": [
       "{1, 2, 3, 4, 5, 6, 7, 8, 9}"
      ]
     },
     "execution_count": 96,
     "metadata": {},
     "output_type": "execute_result"
    }
   ],
   "source": [
    "# 합집합\n",
    "\n",
    "s1|s2\n",
    "s1.union(s2)"
   ]
  },
  {
   "cell_type": "code",
   "execution_count": 98,
   "metadata": {},
   "outputs": [
    {
     "data": {
      "text/plain": [
       "{1, 2, 3}"
      ]
     },
     "execution_count": 98,
     "metadata": {},
     "output_type": "execute_result"
    }
   ],
   "source": [
    "# 차집합\n",
    "s1 - s2\n",
    "s1.difference(s2)"
   ]
  },
  {
   "cell_type": "markdown",
   "metadata": {},
   "source": [
    "## 값 1개 추가하기 (add)"
   ]
  },
  {
   "cell_type": "code",
   "execution_count": 99,
   "metadata": {},
   "outputs": [
    {
     "data": {
      "text/plain": [
       "{1, 2, 3, 4}"
      ]
     },
     "execution_count": 99,
     "metadata": {},
     "output_type": "execute_result"
    }
   ],
   "source": [
    "s1 = set([1, 2, 3])\n",
    "s1.add(4)\n",
    "s1"
   ]
  },
  {
   "cell_type": "markdown",
   "metadata": {},
   "source": [
    "## 값 여러 개 추가하기(update)"
   ]
  },
  {
   "cell_type": "code",
   "execution_count": 100,
   "metadata": {},
   "outputs": [
    {
     "data": {
      "text/plain": [
       "{1, 2, 3, 4, 5, 6}"
      ]
     },
     "execution_count": 100,
     "metadata": {},
     "output_type": "execute_result"
    }
   ],
   "source": [
    "s1 = set([1,2,3])\n",
    "s1.update([4,5,6])\n",
    "s1"
   ]
  },
  {
   "cell_type": "markdown",
   "metadata": {},
   "source": [
    "## 특정 값 제거하기(remove)"
   ]
  },
  {
   "cell_type": "code",
   "execution_count": 101,
   "metadata": {},
   "outputs": [
    {
     "data": {
      "text/plain": [
       "{1, 3}"
      ]
     },
     "execution_count": 101,
     "metadata": {},
     "output_type": "execute_result"
    }
   ],
   "source": [
    "s1 = set([1,2,3])\n",
    "s1.remove(2)\n",
    "s1"
   ]
  },
  {
   "cell_type": "markdown",
   "metadata": {},
   "source": [
    "# 불 자료형 "
   ]
  },
  {
   "cell_type": "markdown",
   "metadata": {},
   "source": [
    "불 자료형은 간단히 요약하겠다."
   ]
  },
  {
   "cell_type": "code",
   "execution_count": 103,
   "metadata": {},
   "outputs": [
    {
     "name": "stdout",
     "output_type": "stream",
     "text": [
      "4\n",
      "3\n",
      "2\n",
      "1\n"
     ]
    }
   ],
   "source": [
    "# 값이 있으면 참 , 없으면 거짓\n",
    "\n",
    "a = [1, 2, 3, 4]\n",
    "while a: # 이 부분.\n",
    "    print(a.pop())"
   ]
  },
  {
   "cell_type": "code",
   "execution_count": 104,
   "metadata": {},
   "outputs": [
    {
     "name": "stdout",
     "output_type": "stream",
     "text": [
      "거짓\n"
     ]
    }
   ],
   "source": [
    "# 이해에 도움되는 예시 \n",
    "# []안에 값이 있으면 참 , 아니면 거짓\n",
    "if []:\n",
    "    print(\"참\")\n",
    "else:\n",
    "    print(\"거짓\")"
   ]
  },
  {
   "cell_type": "markdown",
   "metadata": {},
   "source": [
    "# if"
   ]
  },
  {
   "cell_type": "markdown",
   "metadata": {},
   "source": [
    "if 조건문에서 \"조건문\"이란 참과 거짓을 판단하는 문장을 말한다."
   ]
  },
  {
   "cell_type": "markdown",
   "metadata": {},
   "source": [
    "## and, or, not\n",
    "조건을 판단하기 위해 사용하는 다른 연산자로는 and, or, not이 있다.   \n",
    "각각의 연산자는 다음처럼 동작한다."
   ]
  },
  {
   "cell_type": "code",
   "execution_count": 105,
   "metadata": {},
   "outputs": [
    {
     "name": "stdout",
     "output_type": "stream",
     "text": [
      "택시를 타라\n"
     ]
    }
   ],
   "source": [
    "#돈이 3000원 이상 있거나 카드가 있다면 택시를 타고 그렇지 않으면 걸어가라.\n",
    "\n",
    "money = 2000\n",
    "card = True\n",
    "\n",
    "if money>=3000 or card:\n",
    "    print('택시를 타라')\n",
    "    \n",
    "else: \n",
    "    print('걸어가라')"
   ]
  },
  {
   "cell_type": "markdown",
   "metadata": {},
   "source": [
    "## x in s, x not in s"
   ]
  },
  {
   "cell_type": "code",
   "execution_count": 106,
   "metadata": {},
   "outputs": [
    {
     "data": {
      "text/plain": [
       "False"
      ]
     },
     "execution_count": 106,
     "metadata": {},
     "output_type": "execute_result"
    }
   ],
   "source": [
    "1 in [1,2,3]\n",
    "1 not in [1,2,3]"
   ]
  },
  {
   "cell_type": "code",
   "execution_count": 113,
   "metadata": {},
   "outputs": [
    {
     "name": "stdout",
     "output_type": "stream",
     "text": [
      "택시를 타자\n"
     ]
    }
   ],
   "source": [
    "# \"만약 주머니에 돈이 있으면 택시를 타고, 없으면 걸어 가라.\"\n",
    "\n",
    "\n",
    "pocket = ['paper','cellphone','money']\n",
    "\n",
    "if 'money' in pocket:\n",
    "    print('택시를 타자')\n",
    "    \n",
    "else: print('걸어가자...')"
   ]
  },
  {
   "cell_type": "markdown",
   "metadata": {},
   "source": [
    "[조건문에서 아무 일도 하지 않게 설정하고 싶다면?]\n",
    "\n",
    "가끔 조건문의 참, 거짓에 따라 실행할 행동을 정의할 때, 아무런 일도 하지 않도록 설정하고 싶을 때가 있다."
   ]
  },
  {
   "cell_type": "code",
   "execution_count": 112,
   "metadata": {},
   "outputs": [],
   "source": [
    "# \"주머니에 돈이 있으면 가만히 있고 주머니에 돈이 없으면 카드를 꺼내라.\"\n",
    "\n",
    "\n",
    "pocket = ['money','cellphone']\n",
    "\n",
    "if 'money' in pocket:\n",
    "    pass # pass 가 아무것도 안하는 코드다.\n",
    "\n",
    "else: print('카드를 꺼내라~')"
   ]
  },
  {
   "cell_type": "markdown",
   "metadata": {},
   "source": [
    "## 다양한 조건을 판단하는 elif"
   ]
  },
  {
   "cell_type": "code",
   "execution_count": 114,
   "metadata": {},
   "outputs": [
    {
     "name": "stdout",
     "output_type": "stream",
     "text": [
      "Take a taxi\n"
     ]
    }
   ],
   "source": [
    "# \"주머니에 돈이 있으면 택시를 타고, 주머니에 돈은 없지만 카드가 있으면 택시를 타고, 돈도 없고 카드도 없으면 걸어 가라.\"\n",
    "\n",
    "pocket = ['money','card','cellphone']\n",
    "\n",
    "if 'money' in pocket:\n",
    "    print('Take a taxi')\n",
    "    \n",
    "elif 'card' in pocket:\n",
    "    print('Take a taxi')\n",
    "    \n",
    "else: print('걸어가라')"
   ]
  },
  {
   "cell_type": "markdown",
   "metadata": {},
   "source": [
    "## 조건부 표현식"
   ]
  },
  {
   "cell_type": "code",
   "execution_count": 117,
   "metadata": {},
   "outputs": [
    {
     "name": "stdout",
     "output_type": "stream",
     "text": [
      "success\n"
     ]
    }
   ],
   "source": [
    "score=70\n",
    "\n",
    "if score >= 60:\n",
    "    message = 'success'\n",
    "else:\n",
    "    message ='failure'\n",
    "    \n",
    "print(message)"
   ]
  },
  {
   "cell_type": "code",
   "execution_count": 119,
   "metadata": {},
   "outputs": [
    {
     "data": {
      "text/plain": [
       "'success'"
      ]
     },
     "execution_count": 119,
     "metadata": {},
     "output_type": "execute_result"
    }
   ],
   "source": [
    "# 위의 코드를 한 줄로 표현 할 수도 있다.\n",
    "message = \"success\" if score >= 60 else \"failure\"\n",
    "message"
   ]
  },
  {
   "cell_type": "markdown",
   "metadata": {},
   "source": [
    "# while문"
   ]
  },
  {
   "cell_type": "markdown",
   "metadata": {},
   "source": [
    "반복해서 문장을 수행해야 할 경우 while문을 사용한다.   \n",
    "그래서 while문을 반복문이라고도 부른다."
   ]
  },
  {
   "cell_type": "code",
   "execution_count": 121,
   "metadata": {},
   "outputs": [
    {
     "name": "stdout",
     "output_type": "stream",
     "text": [
      "나무를 1번 찍었습니다.\n",
      "나무를 2번 찍었습니다.\n",
      "나무를 3번 찍었습니다.\n",
      "나무를 4번 찍었습니다.\n",
      "나무를 5번 찍었습니다.\n",
      "나무를 6번 찍었습니다.\n",
      "나무를 7번 찍었습니다.\n",
      "나무를 8번 찍었습니다.\n",
      "나무를 9번 찍었습니다.\n",
      "나무를 10번 찍었습니다.\n",
      "나무 넘어갑니다.\n"
     ]
    }
   ],
   "source": [
    "# 예시1\n",
    "\n",
    "treeHit=0\n",
    "while treeHit <10: # treeHit이 10 이하 일 때 작동.\n",
    "    treeHit+=1\n",
    "    print('나무를 %d번 찍었습니다.'%treeHit)\n",
    "    \n",
    "    if treeHit==10:\n",
    "        print(\"나무 넘어갑니다.\")"
   ]
  },
  {
   "cell_type": "markdown",
   "metadata": {},
   "source": [
    "위 예에서 while문의 조건문은 treeHit < 10이다.    \n",
    "즉 treeHit가 10보다 작은 동안에 while문 안의 문장을 계속 수행한다.    \n",
    "   \n",
    "whlie문 안의 문장을 보면 제일 먼저 treeHit = treeHit + 1로 treeHit 값이 계속 1씩 증가한다.    \n",
    "   \n",
    "그리고 나무를 treeHit번만큼 찍었음을 알리는 문장을 출력하고 treeHit가 10이 되면 \"나무 넘어갑니다.\"라는 문장을 출력한다.\n",
    "그러고 나면 treeHit < 10 조건문이 거짓이 되므로 while문을 빠져나가게 된다."
   ]
  },
  {
   "cell_type": "code",
   "execution_count": 124,
   "metadata": {},
   "outputs": [],
   "source": [
    "# 예시2\n",
    "\n",
    "prompt = \"\"\"\n",
    "\n",
    "1. Add\n",
    "2. Del\n",
    "3. List\n",
    "4. Quit\n",
    "\n",
    "Enter number: \"\"\""
   ]
  },
  {
   "cell_type": "markdown",
   "metadata": {},
   "source": [
    "while문을 보면 number가 4가 아닌 동안 prompt를 출력하고 사용자로부터 번호를 입력받는다.    \n",
    "   \n",
    "다음 결과 화면처럼 사용자가 값 4를 입력하지 않으면 계속해서 prompt를 출력한다."
   ]
  },
  {
   "cell_type": "code",
   "execution_count": 125,
   "metadata": {},
   "outputs": [
    {
     "name": "stdout",
     "output_type": "stream",
     "text": [
      "\n",
      "\n",
      "1. Add\n",
      "2. Del\n",
      "3. List\n",
      "4. Quit\n",
      "\n",
      "Enter number: \n",
      "1\n",
      "\n",
      "\n",
      "1. Add\n",
      "2. Del\n",
      "3. List\n",
      "4. Quit\n",
      "\n",
      "Enter number: \n",
      "2\n",
      "\n",
      "\n",
      "1. Add\n",
      "2. Del\n",
      "3. List\n",
      "4. Quit\n",
      "\n",
      "Enter number: \n",
      "3\n",
      "\n",
      "\n",
      "1. Add\n",
      "2. Del\n",
      "3. List\n",
      "4. Quit\n",
      "\n",
      "Enter number: \n",
      "4\n"
     ]
    }
   ],
   "source": [
    "number = 0\n",
    "while number!=4:\n",
    "    print(prompt)\n",
    "    number=int(input())"
   ]
  },
  {
   "cell_type": "code",
   "execution_count": 127,
   "metadata": {},
   "outputs": [
    {
     "name": "stdout",
     "output_type": "stream",
     "text": [
      "돈을 받았으니 커피를 줍니다.\n",
      "남은 커피의 양은 9개입니다.\n",
      "돈을 받았으니 커피를 줍니다.\n",
      "남은 커피의 양은 8개입니다.\n",
      "돈을 받았으니 커피를 줍니다.\n",
      "남은 커피의 양은 7개입니다.\n",
      "돈을 받았으니 커피를 줍니다.\n",
      "남은 커피의 양은 6개입니다.\n",
      "돈을 받았으니 커피를 줍니다.\n",
      "남은 커피의 양은 5개입니다.\n",
      "돈을 받았으니 커피를 줍니다.\n",
      "남은 커피의 양은 4개입니다.\n",
      "돈을 받았으니 커피를 줍니다.\n",
      "남은 커피의 양은 3개입니다.\n",
      "돈을 받았으니 커피를 줍니다.\n",
      "남은 커피의 양은 2개입니다.\n",
      "돈을 받았으니 커피를 줍니다.\n",
      "남은 커피의 양은 1개입니다.\n",
      "돈을 받았으니 커피를 줍니다.\n",
      "남은 커피의 양은 0개입니다.\n",
      "커피가 다 떨어졌습니다. 판매를 중지합니다.\n"
     ]
    }
   ],
   "source": [
    "# while문 강제로 빠져나가기 (break)\n",
    "\n",
    "\n",
    "coffee = 10\n",
    "money = 300\n",
    "\n",
    "while money:\n",
    "    print('돈을 받았으니 커피를 줍니다.')\n",
    "    coffee = coffee -1\n",
    "    print('남은 커피의 양은 %d개입니다.'%coffee)\n",
    "    \n",
    "    if coffee == 0:\n",
    "        print('커피가 다 떨어졌습니다. 판매를 중지합니다.')\n",
    "        break"
   ]
  },
  {
   "cell_type": "code",
   "execution_count": 128,
   "metadata": {},
   "outputs": [
    {
     "name": "stdout",
     "output_type": "stream",
     "text": [
      "돈을 넣어 주세요: 200\n",
      "돈을 다시 돌려주고 커피를 주지 않습니다.\n",
      "남은 커피의 양은 10개 입니다.\n",
      "돈을 넣어 주세요: 500\n",
      "거스름돈 200를 주고 커피를 줍니다.\n",
      "돈을 넣어 주세요: 540\n",
      "거스름돈 240를 주고 커피를 줍니다.\n",
      "돈을 넣어 주세요: 666\n",
      "거스름돈 366를 주고 커피를 줍니다.\n",
      "돈을 넣어 주세요: 6666\n",
      "거스름돈 6366를 주고 커피를 줍니다.\n",
      "돈을 넣어 주세요: 66565\n",
      "거스름돈 66265를 주고 커피를 줍니다.\n",
      "돈을 넣어 주세요: 151515\n",
      "거스름돈 151215를 주고 커피를 줍니다.\n",
      "돈을 넣어 주세요: 51515\n",
      "거스름돈 51215를 주고 커피를 줍니다.\n",
      "돈을 넣어 주세요: 55555\n",
      "거스름돈 55255를 주고 커피를 줍니다.\n",
      "돈을 넣어 주세요: 55555\n",
      "거스름돈 55255를 주고 커피를 줍니다.\n",
      "돈을 넣어 주세요: 5555525\n",
      "거스름돈 5555225를 주고 커피를 줍니다.\n",
      "커피가 다 떨어졌습니다. 판매를 중지 합니다.\n"
     ]
    }
   ],
   "source": [
    "#예시3 (자판기 실제 작동 과정과 비슷함.)\n",
    "\n",
    "coffee = 10\n",
    "while True:\n",
    "    money = int(input(\"돈을 넣어 주세요: \"))\n",
    "    if money == 300:\n",
    "        print(\"커피를 줍니다.\")\n",
    "        coffee = coffee -1\n",
    "    elif money > 300:\n",
    "        print(\"거스름돈 %d를 주고 커피를 줍니다.\" % (money -300))\n",
    "        coffee = coffee -1\n",
    "    else:\n",
    "        print(\"돈을 다시 돌려주고 커피를 주지 않습니다.\")\n",
    "        print(\"남은 커피의 양은 %d개 입니다.\" % coffee)\n",
    "    if coffee == 0:\n",
    "        print(\"커피가 다 떨어졌습니다. 판매를 중지 합니다.\")\n",
    "        break"
   ]
  },
  {
   "cell_type": "code",
   "execution_count": 135,
   "metadata": {},
   "outputs": [
    {
     "name": "stdout",
     "output_type": "stream",
     "text": [
      "1\n",
      "3\n",
      "5\n",
      "7\n",
      "9\n"
     ]
    }
   ],
   "source": [
    "# while문의 맨 처음으로 돌아가기\n",
    "\n",
    "\n",
    "a = 0\n",
    "\n",
    "while a <10:\n",
    "    a+=1\n",
    "    \n",
    "    if a %2 ==0: continue  # continue는 while문으로 다시 돌아가게 한다.\n",
    "    print(a) # 이 부분은 띄어쓰기를 안한다."
   ]
  },
  {
   "cell_type": "markdown",
   "metadata": {},
   "source": [
    "## 무한 루프"
   ]
  },
  {
   "cell_type": "markdown",
   "metadata": {},
   "source": [
    "무한 루프란 무한히 반복한다는 의미이다.   \n",
    "\n",
    "우리가 사용하는 일반 프로그램 중에서 무한 루프 개념을 사용하지 않는 프로그램은 거의 없다.   \n",
    "그만큼 자주 사용한다는 뜻이다."
   ]
  },
  {
   "cell_type": "markdown",
   "metadata": {},
   "source": [
    "while문의 조건문이 True이므로 항상 참이 된다.   \n",
    "   \n",
    "따라서 while문 안에 있는 문장들은 무한하게 수행될 것이다.\n",
    "   \n",
    "다음의 무한 루프 예이다."
   ]
  },
  {
   "cell_type": "code",
   "execution_count": 3,
   "metadata": {
    "scrolled": true
   },
   "outputs": [
    {
     "data": {
      "text/plain": [
       "()"
      ]
     },
     "execution_count": 3,
     "metadata": {},
     "output_type": "execute_result"
    }
   ],
   "source": [
    "while True:\n",
    "    print(\"Ctrl+C를 눌러야 while문을 빠져나갈 수 있습니다.\")"
   ]
  },
  {
   "cell_type": "markdown",
   "metadata": {},
   "source": [
    "# 함수"
   ]
  },
  {
   "cell_type": "markdown",
   "metadata": {},
   "source": [
    "함수는 들어온 입력값을 받아 어떤 처리를 하여 적절한 결괏값을 돌려준다."
   ]
  },
  {
   "cell_type": "markdown",
   "metadata": {},
   "source": [
    "파이썬 함수의 구조\n",
    "\n",
    "\n",
    "def 함수명(매개변수):   \n",
    "    <수행할 문장1>   \n",
    "    <수행할 문장2>   \n",
    "    ..."
   ]
  },
  {
   "cell_type": "code",
   "execution_count": 5,
   "metadata": {},
   "outputs": [
    {
     "data": {
      "text/plain": [
       "4"
      ]
     },
     "execution_count": 5,
     "metadata": {},
     "output_type": "execute_result"
    }
   ],
   "source": [
    "# 예시\n",
    "\n",
    "def add(a, b): \n",
    "    return a + b\n",
    "\n",
    "add(1,3)"
   ]
  },
  {
   "cell_type": "markdown",
   "metadata": {},
   "source": [
    "## 매개변수와 인수"
   ]
  },
  {
   "cell_type": "markdown",
   "metadata": {},
   "source": [
    "매개변수(parameter)와 인수(arguments)는 혼용해서 사용되는 헷갈리는 용어이므로 잘 기억해 두자.   \n",
    "\n",
    "매개변수는 함수에 입력으로 전달된 값을 받는 변수를 의미하고 인수는 함수를 호출할 때 전달하는 입력값을 의미한다."
   ]
  },
  {
   "cell_type": "code",
   "execution_count": null,
   "metadata": {},
   "outputs": [],
   "source": [
    "def add(a, b):  # a, b는 매개변수\n",
    "    return a+b\n",
    "\n",
    "print(add(3, 4))  # 3, 4는 인수"
   ]
  },
  {
   "cell_type": "markdown",
   "metadata": {},
   "source": [
    "입력값이 없는 함수"
   ]
  },
  {
   "cell_type": "code",
   "execution_count": 8,
   "metadata": {},
   "outputs": [
    {
     "data": {
      "text/plain": [
       "'Hi'"
      ]
     },
     "execution_count": 8,
     "metadata": {},
     "output_type": "execute_result"
    }
   ],
   "source": [
    "def say():\n",
    "    return 'Hi'\n",
    "say()"
   ]
  },
  {
   "cell_type": "code",
   "execution_count": 10,
   "metadata": {},
   "outputs": [],
   "source": [
    "def add(a, b): \n",
    "    print(\"%d, %d의 합은 %d입니다.\" % (a, b, a+b))"
   ]
  },
  {
   "cell_type": "code",
   "execution_count": 13,
   "metadata": {},
   "outputs": [
    {
     "name": "stdout",
     "output_type": "stream",
     "text": [
      "3, 4의 합은 7입니다.\n",
      "None\n"
     ]
    }
   ],
   "source": [
    "a=add(3,4)\n",
    "print(a)"
   ]
  },
  {
   "cell_type": "markdown",
   "metadata": {},
   "source": [
    "아마도 여러분은 ‘3, 4의 합은 7입니다.’라는 문장을 출력해 주었는데 왜 결괏값이 없다는 것인지 의아하게 생각할 것이다.   \n",
    "\n",
    "이 부분이 초보자들이 혼란스러워하는 부분이기도 한데 print문은 함수의 구성 요소 중 하나인 <수행할 문장>에 해당하는 부분일 뿐이다.\n",
    "   \n",
    "\n",
    "결괏값은 당연히 없다. 결괏값은 오직 return 명령어로만 돌려받을 수 있다."
   ]
  },
  {
   "cell_type": "markdown",
   "metadata": {},
   "source": [
    "## *여러 개의 입력값을 받는 함수 만들기"
   ]
  },
  {
   "cell_type": "code",
   "execution_count": 15,
   "metadata": {},
   "outputs": [
    {
     "data": {
      "text/plain": [
       "6"
      ]
     },
     "execution_count": 15,
     "metadata": {},
     "output_type": "execute_result"
    }
   ],
   "source": [
    "def add_many(*args):\n",
    "    result=0\n",
    "    for i in args:\n",
    "        result+=i\n",
    "    return result\n",
    "\n",
    "add_many(1,2,3)"
   ]
  },
  {
   "cell_type": "markdown",
   "metadata": {},
   "source": [
    "## 키워드 파라미터 kwargs"
   ]
  },
  {
   "cell_type": "markdown",
   "metadata": {},
   "source": [
    "입력값 a=1 또는 name='foo', age=3이 모두 딕셔너리로 만들어져서 출력된다는 것을 확인할 수 있다. 즉 **kwargs처럼 매개변수 이름 앞에 **을 붙이면 매개변수 kwargs는 딕셔너리가 되고 모든 key=value 형태의 결괏값이 그 딕셔너리에 저장된다."
   ]
  },
  {
   "cell_type": "code",
   "execution_count": 16,
   "metadata": {},
   "outputs": [],
   "source": [
    "def print_kwargs(**kwargs):\n",
    "    print(kwargs)"
   ]
  },
  {
   "cell_type": "markdown",
   "metadata": {},
   "source": [
    "## [return의 또 다른 쓰임새]"
   ]
  },
  {
   "cell_type": "markdown",
   "metadata": {},
   "source": [
    "특별한 상황일 때 함수를 빠져나가고 싶다면 return을 단독으로 써서 함수를 즉시 빠져나갈 수 있다. 다음 예를 보자."
   ]
  },
  {
   "cell_type": "code",
   "execution_count": 19,
   "metadata": {},
   "outputs": [
    {
     "name": "stdout",
     "output_type": "stream",
     "text": [
      "나의 별명은 아하하 입니다.\n"
     ]
    }
   ],
   "source": [
    "def say_nick(nick):\n",
    "    if nick == '바보':\n",
    "        return\n",
    "    \n",
    "    print('나의 별명은 %s 입니다.'%nick)\n",
    "    \n",
    "say_nick('아하하')"
   ]
  },
  {
   "cell_type": "markdown",
   "metadata": {},
   "source": [
    "## 매개변수에 초깃값 미리 설정하기"
   ]
  },
  {
   "cell_type": "code",
   "execution_count": 20,
   "metadata": {},
   "outputs": [],
   "source": [
    "def say_myself(name,old,man=True):\n",
    "    \n",
    "    # man이 바로 초기값이다.\n",
    "    \n",
    "    print('나의 이름은 %s입니다.'%name)\n",
    "    print('나이는 %d살입니다.'%old)\n",
    "    \n",
    "    if man:\n",
    "        print('남자입니다.')\n",
    "    \n",
    "    else:\n",
    "        print('여자입니다.')"
   ]
  },
  {
   "cell_type": "code",
   "execution_count": 21,
   "metadata": {},
   "outputs": [
    {
     "name": "stdout",
     "output_type": "stream",
     "text": [
      "나의 이름은 하연입니다.\n",
      "나이는 28살입니다.\n",
      "남자입니다.\n"
     ]
    }
   ],
   "source": [
    "say_myself('하연',28)"
   ]
  },
  {
   "cell_type": "code",
   "execution_count": 22,
   "metadata": {},
   "outputs": [
    {
     "name": "stdout",
     "output_type": "stream",
     "text": [
      "나의 이름은 하연입니다.\n",
      "나이는 28살입니다.\n",
      "여자입니다.\n"
     ]
    }
   ],
   "source": [
    "say_myself('하연',28,False)"
   ]
  },
  {
   "cell_type": "markdown",
   "metadata": {},
   "source": [
    "## 함수 안에서 함수 밖의 변수를 변경하는 방법"
   ]
  },
  {
   "cell_type": "code",
   "execution_count": null,
   "metadata": {},
   "outputs": [],
   "source": [
    "return 사용하기\n",
    "\n",
    "def vartest(a): \n",
    "    a = a +1 \n",
    "    return a\n",
    "\n",
    "a = vartest(a) \n",
    "print(a)"
   ]
  },
  {
   "cell_type": "code",
   "execution_count": null,
   "metadata": {},
   "outputs": [],
   "source": [
    "global 명령어 사용하기\n",
    "\n",
    "a = 1 \n",
    "def vartest(): \n",
    "    global a \n",
    "    a = a+1\n",
    "\n",
    "vartest() \n",
    "print(a)"
   ]
  },
  {
   "cell_type": "markdown",
   "metadata": {},
   "source": [
    "## lambda"
   ]
  },
  {
   "cell_type": "markdown",
   "metadata": {},
   "source": [
    "보통 함수를 한줄로 간결하게 만들 때 사용한다. 우리말로는 \"람다\"라고 읽고 def를 사용해야 할 정도로 복잡하지 않거나 def를 사용할 수 없는 곳에 주로 쓰인다."
   ]
  },
  {
   "cell_type": "code",
   "execution_count": 23,
   "metadata": {},
   "outputs": [
    {
     "name": "stdout",
     "output_type": "stream",
     "text": [
      "7\n"
     ]
    }
   ],
   "source": [
    "add = lambda a,b :a+b\n",
    "result = add(3,4)\n",
    "\n",
    "print(result)"
   ]
  },
  {
   "cell_type": "markdown",
   "metadata": {},
   "source": [
    "# 파일 읽고 쓰기"
   ]
  },
  {
   "cell_type": "markdown",
   "metadata": {},
   "source": [
    "파일 생성하기"
   ]
  },
  {
   "cell_type": "markdown",
   "metadata": {},
   "source": [
    "다음 소스 코드를 에디터로 작성해서 저장한 후 실행해 보자. 프로그램을 실행한 디렉터리에 새로운 파일이 하나 생성된 것을 확인할 수 있을 것이다."
   ]
  },
  {
   "cell_type": "code",
   "execution_count": 28,
   "metadata": {},
   "outputs": [],
   "source": [
    "f = open(\"새파일.txt\", 'w')\n",
    "f.close()"
   ]
  },
  {
   "cell_type": "markdown",
   "metadata": {},
   "source": [
    "r\t읽기모드 - 파일을 읽기만 할 때 사용   \n",
    "w\t쓰기모드 - 파일에 내용을 쓸 때 사용   \n",
    "a\t추가모드 - 파일의 마지막에 새로운 내용을 추가 시킬 때 사용"
   ]
  },
  {
   "cell_type": "markdown",
   "metadata": {},
   "source": [
    "파일을 쓰기 모드로 열면 해당 파일이 이미 존재할 경우 원래 있던 내용이 모두 사라지고, 해당 파일이 존재하지 않으면 새로운 파일이 생성된다. 위 예에서는 디렉터리에 파일이 없는 상태에서 새파일.txt를 쓰기 모드인 'w'로 열었기 때문에 새파일.txt라는 이름의 새로운 파일이 현재 디렉터리에 생성되는 것이다."
   ]
  },
  {
   "cell_type": "markdown",
   "metadata": {},
   "source": [
    "만약 새파일.txt 파일을 C:/doit 디렉터리에 생성하고 싶다면 다음과 같이 작성해야 한다.\n",
    "\n",
    "f = open(\"C:/doit/새파일.txt\", 'w')   \n",
    "f.close()"
   ]
  },
  {
   "cell_type": "code",
   "execution_count": 31,
   "metadata": {},
   "outputs": [],
   "source": [
    "# 파일을 쓰기 모드로 열어 출력값 적기\n",
    "\n",
    "f = open(\"새파일.txt\",'w')\n",
    "\n",
    "for i in range(1,11):\n",
    "    data = '%d번째 줄입니다.\\n'%i\n",
    "    f.write(data)\n",
    "f.close()"
   ]
  },
  {
   "cell_type": "code",
   "execution_count": null,
   "metadata": {},
   "outputs": [],
   "source": [
    "readline 함수 이용하기\n",
    "첫 번째 방법은 readline 함수를 사용하는 방법이다. \n",
    "\n",
    "# readline_test.py\n",
    "f = open(\"C:/doit/새파일.txt\", 'r')\n",
    "line = f.readline()\n",
    "print(line)\n",
    "f.close()"
   ]
  },
  {
   "cell_type": "code",
   "execution_count": null,
   "metadata": {},
   "outputs": [],
   "source": [
    "만약 모든 줄을 읽어서 화면에 출력하고 싶다면 다음과 같이 작성하면 된다.\n",
    "\n",
    "# readline_all.py\n",
    "f = open(\"C:/doit/새파일.txt\", 'r')\n",
    "while True:\n",
    "    line = f.readline()\n",
    "    if not line: break\n",
    "    print(line)\n",
    "f.close()"
   ]
  },
  {
   "cell_type": "code",
   "execution_count": null,
   "metadata": {},
   "outputs": [],
   "source": [
    "read 함수 사용하기\n",
    "세 번째 방법은 read 함수를 사용하는 방법이다. 다음 예를 보자.\n",
    "\n",
    "f = open(\"C:/doit/새파일.txt\", 'r')\n",
    "data = f.read()\n",
    "print(data)\n",
    "f.close()"
   ]
  },
  {
   "cell_type": "code",
   "execution_count": null,
   "metadata": {},
   "outputs": [],
   "source": [
    "# 파일에 새로운 내용 추가하기\n",
    "\n",
    "\n",
    "# adddata.py\n",
    "f = open(\"C:/doit/새파일.txt\",'a')\n",
    "for i in range(11, 20):\n",
    "    data = \"%d번째 줄입니다.\\n\" % i\n",
    "    f.write(data)\n",
    "f.close()"
   ]
  },
  {
   "cell_type": "markdown",
   "metadata": {},
   "source": [
    "## 자동저장 with"
   ]
  },
  {
   "cell_type": "code",
   "execution_count": null,
   "metadata": {},
   "outputs": [],
   "source": [
    "with open(\"foo.txt\", \"w\") as f:\n",
    "    f.write(\"Life is too short, you need python\")"
   ]
  },
  {
   "cell_type": "code",
   "execution_count": null,
   "metadata": {},
   "outputs": [],
   "source": []
  },
  {
   "cell_type": "code",
   "execution_count": null,
   "metadata": {},
   "outputs": [],
   "source": []
  },
  {
   "cell_type": "code",
   "execution_count": null,
   "metadata": {},
   "outputs": [],
   "source": []
  },
  {
   "cell_type": "code",
   "execution_count": null,
   "metadata": {},
   "outputs": [],
   "source": []
  },
  {
   "cell_type": "markdown",
   "metadata": {
    "id": "ZMkIo19Wd1mB"
   },
   "source": [
    "## 데이터프레임 만들기"
   ]
  },
  {
   "cell_type": "code",
   "execution_count": 2,
   "metadata": {
    "executionInfo": {
     "elapsed": 329,
     "status": "ok",
     "timestamp": 1635064984848,
     "user": {
      "displayName": "하루",
      "photoUrl": "https://lh3.googleusercontent.com/a-/AOh14Gh1kkFXQa8gBIyn-GL3vzfnOrTTFXOUit4T0V7o=s64",
      "userId": "03220678562672147041"
     },
     "user_tz": -540
    },
    "id": "U8OmOun_zw25"
   },
   "outputs": [],
   "source": [
    "import pandas as pd\n",
    "df = pd.DataFrame({'size':[100055,21512,25252] ,'bottom':[8882828,12525,12322]},index=['a','b','c'])"
   ]
  },
  {
   "cell_type": "code",
   "execution_count": 18,
   "metadata": {
    "colab": {
     "base_uri": "https://localhost:8080/",
     "height": 142
    },
    "executionInfo": {
     "elapsed": 10,
     "status": "ok",
     "timestamp": 1635004055350,
     "user": {
      "displayName": "하루",
      "photoUrl": "https://lh3.googleusercontent.com/a-/AOh14Gh1kkFXQa8gBIyn-GL3vzfnOrTTFXOUit4T0V7o=s64",
      "userId": "03220678562672147041"
     },
     "user_tz": -540
    },
    "id": "n_Uqo5Zqz1Ni",
    "outputId": "18351071-d6f2-48ff-bb7b-928afff7d80c"
   },
   "outputs": [
    {
     "data": {
      "text/html": [
       "<div>\n",
       "<style scoped>\n",
       "    .dataframe tbody tr th:only-of-type {\n",
       "        vertical-align: middle;\n",
       "    }\n",
       "\n",
       "    .dataframe tbody tr th {\n",
       "        vertical-align: top;\n",
       "    }\n",
       "\n",
       "    .dataframe thead th {\n",
       "        text-align: right;\n",
       "    }\n",
       "</style>\n",
       "<table border=\"1\" class=\"dataframe\">\n",
       "  <thead>\n",
       "    <tr style=\"text-align: right;\">\n",
       "      <th></th>\n",
       "      <th>size</th>\n",
       "      <th>bottom</th>\n",
       "    </tr>\n",
       "  </thead>\n",
       "  <tbody>\n",
       "    <tr>\n",
       "      <th>a</th>\n",
       "      <td>100055</td>\n",
       "      <td>8882828</td>\n",
       "    </tr>\n",
       "    <tr>\n",
       "      <th>b</th>\n",
       "      <td>21512</td>\n",
       "      <td>12525</td>\n",
       "    </tr>\n",
       "    <tr>\n",
       "      <th>c</th>\n",
       "      <td>25252</td>\n",
       "      <td>12322</td>\n",
       "    </tr>\n",
       "  </tbody>\n",
       "</table>\n",
       "</div>"
      ],
      "text/plain": [
       "     size   bottom\n",
       "a  100055  8882828\n",
       "b   21512    12525\n",
       "c   25252    12322"
      ]
     },
     "execution_count": 18,
     "metadata": {},
     "output_type": "execute_result"
    }
   ],
   "source": [
    "df"
   ]
  }
 ],
 "metadata": {
  "colab": {
   "authorship_tag": "ABX9TyN8i7ozn9HL7+SBhhhHqgCH",
   "collapsed_sections": [],
   "name": "HowtousePython.ipynb",
   "provenance": []
  },
  "kernelspec": {
   "display_name": "Python 3 (ipykernel)",
   "language": "python",
   "name": "python3"
  },
  "language_info": {
   "codemirror_mode": {
    "name": "ipython",
    "version": 3
   },
   "file_extension": ".py",
   "mimetype": "text/x-python",
   "name": "python",
   "nbconvert_exporter": "python",
   "pygments_lexer": "ipython3",
   "version": "3.8.11"
  },
  "toc": {
   "base_numbering": 1,
   "nav_menu": {},
   "number_sections": true,
   "sideBar": true,
   "skip_h1_title": false,
   "title_cell": "Table of Contents",
   "title_sidebar": "Contents",
   "toc_cell": false,
   "toc_position": {},
   "toc_section_display": true,
   "toc_window_display": false
  }
 },
 "nbformat": 4,
 "nbformat_minor": 1
}
