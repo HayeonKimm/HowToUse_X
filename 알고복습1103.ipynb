{
 "cells": [
  {
   "cell_type": "code",
   "execution_count": 2,
   "id": "98b38bf8",
   "metadata": {},
   "outputs": [
    {
     "name": "stdout",
     "output_type": "stream",
     "text": [
      "6\n",
      "정답\n"
     ]
    }
   ],
   "source": [
    "# 거스름돈 \n",
    "\n",
    "coin_all = [500,100,50,10] # 큰 수 부터 나눈다.\n",
    "n = 1260\n",
    "count=0\n",
    "\n",
    "for i in coin_all:\n",
    "    count+=n//i\n",
    "    n%=i\n",
    "    \n",
    "print(count)\n",
    "print('정답')"
   ]
  },
  {
   "cell_type": "code",
   "execution_count": 6,
   "id": "a2a7f802",
   "metadata": {},
   "outputs": [
    {
     "name": "stdout",
     "output_type": "stream",
     "text": [
      "5 8 3\n",
      "2 4 5 4 6\n",
      "46\n",
      "정답\n"
     ]
    }
   ],
   "source": [
    "# m번 더하여 가장 큰 수\n",
    "# 특정한 인덱스에 해당하는 수가 연속해서 K번을 초과 할 수는 없다\n",
    "\n",
    "n,m,k = map(int,input().split())\n",
    "data = list(map(int,input().split()))\n",
    "count=0\n",
    "\n",
    "data.sort() # sort 하려면 리스트로 만들기\n",
    "first = data[-1]\n",
    "second = data[-2]\n",
    "\n",
    "while m!=0:\n",
    "    \n",
    "    for i in range(k):\n",
    "\n",
    "        if m!=0:\n",
    "            count+=first\n",
    "            m-=1\n",
    "\n",
    "    count+=second\n",
    "    m-=1\n",
    "    \n",
    "print(count)\n",
    "print('정답')"
   ]
  },
  {
   "cell_type": "code",
   "execution_count": 10,
   "id": "1f06f543",
   "metadata": {},
   "outputs": [
    {
     "name": "stdout",
     "output_type": "stream",
     "text": [
      "2 4\n",
      "7 3 1 8\n",
      "3 3 3 4\n",
      "3\n"
     ]
    }
   ],
   "source": [
    "# 숫자카드게임\n",
    "\n",
    "n,m = map(int,input().split())\n",
    "result=0\n",
    "for i in range(n):\n",
    "    data=map(int,input().split())\n",
    "    abc=min(data)\n",
    "    result=max(abc,result)\n",
    "    \n",
    "    \n",
    "print(result)\n",
    "print('정답')"
   ]
  },
  {
   "cell_type": "code",
   "execution_count": 11,
   "id": "8be3c27c",
   "metadata": {},
   "outputs": [
    {
     "name": "stdout",
     "output_type": "stream",
     "text": [
      "25 5\n",
      "2\n"
     ]
    }
   ],
   "source": [
    "# 1이 될 때까지\n",
    "# 최소 횟수\n",
    "# n이 1이 될 때까지 반복수행\n",
    "# 1. n에서 1을 뺀다\n",
    "# 2. n을 k로 나눈다\n",
    "\n",
    "n,k = map(int,input().split())\n",
    "# 17,4\n",
    "count=0\n",
    "while n>1:\n",
    "    \n",
    "    if n%k==0:\n",
    "        n=n/k\n",
    "        count+=1\n",
    "    else:\n",
    "        n-=1\n",
    "        count+=1\n",
    "        \n",
    "print(count)\n",
    "\n"
   ]
  },
  {
   "cell_type": "code",
   "execution_count": 22,
   "id": "8b6b6e78",
   "metadata": {
    "scrolled": true
   },
   "outputs": [
    {
     "name": "stdout",
     "output_type": "stream",
     "text": [
      "5\n",
      "R R R U D D\n",
      "3 4\n"
     ]
    }
   ],
   "source": [
    "# 상하좌우\n",
    "# 첫 시작은 (1,1)\n",
    "x,y=1,1\n",
    "n= int(input())\n",
    "plans = input().split()\n",
    "\n",
    "tool = ['L','R','U','D']\n",
    "dx =[0,0,-1,1]\n",
    "dy =[-1,1,0,0]\n",
    "\n",
    "for plan in plans:\n",
    "    \n",
    "    for i in range(len(tool)):\n",
    "        \n",
    "        if plan == tool[i]:\n",
    "            \n",
    "            px=x+dx[i]\n",
    "            py=y+dy[i]\n",
    "    if px<1 or py<1 or px>n or py>n: \n",
    "        \n",
    "        continue\n",
    "        \n",
    "    x,y=px,py\n",
    "print(x,y)\n",
    "            \n"
   ]
  },
  {
   "cell_type": "markdown",
   "id": "bbaf4d22",
   "metadata": {},
   "source": [
    "혼자 못풀었다 다시 봐야할듯"
   ]
  },
  {
   "cell_type": "code",
   "execution_count": 30,
   "id": "b441ffe1",
   "metadata": {},
   "outputs": [
    {
     "name": "stdout",
     "output_type": "stream",
     "text": [
      "5\n",
      "11475\n"
     ]
    }
   ],
   "source": [
    "# 시각 \n",
    "# 3중 반복문\n",
    "\n",
    "n= input()\n",
    "count=0\n",
    "\n",
    "for i in range(int(n)+1):\n",
    "    for x in range(60):\n",
    "        for j in range(60):\n",
    "            \n",
    "            if '3' in (str(i)+str(x)+str(j)):\n",
    "                count+=1\n",
    "                \n",
    "print(count)"
   ]
  },
  {
   "cell_type": "markdown",
   "id": "66f47fbd",
   "metadata": {},
   "source": [
    "정답"
   ]
  },
  {
   "cell_type": "code",
   "execution_count": 8,
   "id": "441a459a",
   "metadata": {},
   "outputs": [
    {
     "name": "stdout",
     "output_type": "stream",
     "text": [
      "a1\n",
      "2\n"
     ]
    }
   ],
   "source": [
    "# 왕실의 나이트\n",
    "# 이동할 수 있는 경우의 수 세기\n",
    "\n",
    "move = input()\n",
    "\n",
    "x,y=1,1\n",
    "\n",
    "ix = move[1]\n",
    "col = int(ord(move[0]))-int(ord('a'))+1\n",
    "move_box=[(1,2),(-1,2),(1,-2),(-1,-2),(2,1),(2,-1),(-2,1),(-2,-1)]\n",
    "\n",
    "count=0\n",
    "\n",
    "\n",
    "for move_ in move_box:\n",
    "    \n",
    "    dx=x+move_[0]\n",
    "    dy=y+move_[1]\n",
    "    \n",
    "    if dx<1 or dy<1 or dx>8 or dy>8:\n",
    "        \n",
    "        continue\n",
    "    count+=1\n",
    "    \n",
    "    \n",
    "print(count)       \n",
    "        \n"
   ]
  },
  {
   "cell_type": "markdown",
   "id": "198cfb7a",
   "metadata": {},
   "source": [
    "다시 보기, 두번 째는 성공"
   ]
  }
 ],
 "metadata": {
  "hide_input": false,
  "kernelspec": {
   "display_name": "Python 3 (ipykernel)",
   "language": "python",
   "name": "python3"
  },
  "language_info": {
   "codemirror_mode": {
    "name": "ipython",
    "version": 3
   },
   "file_extension": ".py",
   "mimetype": "text/x-python",
   "name": "python",
   "nbconvert_exporter": "python",
   "pygments_lexer": "ipython3",
   "version": "3.8.11"
  },
  "toc": {
   "base_numbering": 1,
   "nav_menu": {},
   "number_sections": true,
   "sideBar": true,
   "skip_h1_title": false,
   "title_cell": "Table of Contents",
   "title_sidebar": "Contents",
   "toc_cell": false,
   "toc_position": {},
   "toc_section_display": true,
   "toc_window_display": false
  }
 },
 "nbformat": 4,
 "nbformat_minor": 5
}
